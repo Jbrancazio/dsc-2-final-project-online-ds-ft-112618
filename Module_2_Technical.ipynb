{
 "cells": [
  {
   "cell_type": "markdown",
   "metadata": {},
   "source": [
    "# Final Project Submission\n",
    "\n",
    "Please fill out:\n",
    "* Student name: Joshua Brancazio\n",
    "* Student pace: full time\n",
    "* Instructor name: Rafael Carrasco\n",
    "* Blog post URL: https://jbrancazio.github.io/hypothesis_testing"
   ]
  },
  {
   "cell_type": "markdown",
   "metadata": {},
   "source": [
    "---\n",
    "# Project 2 - The Northwind Database\n",
    "\n",
    "## Method\n",
    "\n",
    "For this project, I will start by obtaining my data and doing some quick exploratory work to understand how it is organized. I will then be using the scientific method to plan and organize my hypothesis testing. I will repeat this process for each of my 4 hypothesis. A brief summary of the method is below.\n",
    "\n",
    "\n",
    "**1. Ask a Question**\n",
    "\n",
    "I will find a question of interest to the shareholders and develop a null and alternate hypothesis. I will also define my level of significance at this stage.\n",
    "\n",
    "**2. Do background research**\n",
    "\n",
    "I will obtain the data needed to answer my question and format it as necessary to prepare it for my test. \n",
    "\n",
    "**3. Test with an experiment**\n",
    "\n",
    "I will run the approproiate test and any post-hoc tests needed to answer my question\n",
    "\n",
    "**4. Analize Data and Draw conclusions**\n",
    "\n",
    "I will analyse the outcome, draw any conclusions and point out any further testing that might be needed or interesting.\n",
    "\n",
    "------------"
   ]
  },
  {
   "cell_type": "markdown",
   "metadata": {},
   "source": [
    "# Obtain The Data"
   ]
  },
  {
   "cell_type": "markdown",
   "metadata": {},
   "source": [
    "My goal for this project is to test 4 hypothesis related to the Northwind Traders Co. database. Northwind Traders Co. is a fictional import/export company that sells specialty foods. The schema of this database is below and will be used throughout this process to inform my queries. \n",
    "\n",
    "<img src='Northwind_ERD.png'>"
   ]
  },
  {
   "cell_type": "markdown",
   "metadata": {},
   "source": [
    "### Connecting to the database\n",
    "\n",
    "I want to start out by creating my code to connect to the sql database and confirm that the schema above is accurate. I believe that is it good practice to double check and make sure that the schema is up to date.\n",
    "\n",
    "I do this by creating a list of table names and printing the column information for each table. This is a great secondary referance to use as I create my queries moving forward. "
   ]
  },
  {
   "cell_type": "code",
   "execution_count": 2,
   "metadata": {},
   "outputs": [
    {
     "name": "stdout",
     "output_type": "stream",
     "text": [
      "2019-01-31 22:13:22,884 INFO sqlalchemy.engine.base.Engine SELECT CAST('test plain returns' AS VARCHAR(60)) AS anon_1\n",
      "2019-01-31 22:13:22,890 INFO sqlalchemy.engine.base.Engine ()\n",
      "2019-01-31 22:13:22,893 INFO sqlalchemy.engine.base.Engine SELECT CAST('test unicode returns' AS VARCHAR(60)) AS anon_1\n",
      "2019-01-31 22:13:22,895 INFO sqlalchemy.engine.base.Engine ()\n"
     ]
    }
   ],
   "source": [
    "import sqlalchemy\n",
    "import sqlite3\n",
    "from sqlalchemy import create_engine\n",
    "from sqlalchemy.orm import Session, sessionmaker\n",
    "from sqlalchemy import inspect\n",
    "import numpy as np\n",
    "import matplotlib.pyplot as plt\n",
    "import seaborn as sns\n",
    "from scipy import stats\n",
    "from statsmodels.stats.multicomp import pairwise_tukeyhsd\n",
    "from statsmodels.stats.multicomp import MultiComparison\n",
    "\n",
    "engine = create_engine('sqlite:///Northwind_small.sqlite',echo=True) #create connection to sql database\n",
    "Session = sessionmaker(bind=engine)\n",
    "session = Session()\n",
    "\n",
    "inspector = inspect(engine)\n",
    "con = engine.connect()"
   ]
  },
  {
   "cell_type": "code",
   "execution_count": 3,
   "metadata": {
    "scrolled": true
   },
   "outputs": [
    {
     "name": "stdout",
     "output_type": "stream",
     "text": [
      "2019-01-31 22:13:22,927 INFO sqlalchemy.engine.base.Engine SELECT name FROM sqlite_master WHERE type='table' ORDER BY name\n",
      "2019-01-31 22:13:22,928 INFO sqlalchemy.engine.base.Engine ()\n",
      "['Category', 'Customer', 'CustomerCustomerDemo', 'CustomerDemographic', 'Employee', 'EmployeeTerritory', 'Order', 'OrderDetail', 'Product', 'Region', 'Shipper', 'Supplier', 'Territory']\n",
      "Column names in table CATEGORY:\n",
      "2019-01-31 22:13:22,935 INFO sqlalchemy.engine.base.Engine PRAGMA table_info(\"Category\")\n",
      "2019-01-31 22:13:22,936 INFO sqlalchemy.engine.base.Engine ()\n",
      "\n",
      " [{'name': 'Id', 'type': INTEGER(), 'nullable': True, 'default': None, 'autoincrement': 'auto', 'primary_key': 1}, {'name': 'CategoryName', 'type': VARCHAR(length=8000), 'nullable': True, 'default': None, 'autoincrement': 'auto', 'primary_key': 0}, {'name': 'Description', 'type': VARCHAR(length=8000), 'nullable': True, 'default': None, 'autoincrement': 'auto', 'primary_key': 0}]\n",
      "\n",
      "\n",
      "Column names in table CUSTOMER:\n",
      "2019-01-31 22:13:22,942 INFO sqlalchemy.engine.base.Engine PRAGMA table_info(\"Customer\")\n",
      "2019-01-31 22:13:22,943 INFO sqlalchemy.engine.base.Engine ()\n",
      "\n",
      " [{'name': 'Id', 'type': VARCHAR(length=8000), 'nullable': True, 'default': None, 'autoincrement': 'auto', 'primary_key': 1}, {'name': 'CompanyName', 'type': VARCHAR(length=8000), 'nullable': True, 'default': None, 'autoincrement': 'auto', 'primary_key': 0}, {'name': 'ContactName', 'type': VARCHAR(length=8000), 'nullable': True, 'default': None, 'autoincrement': 'auto', 'primary_key': 0}, {'name': 'ContactTitle', 'type': VARCHAR(length=8000), 'nullable': True, 'default': None, 'autoincrement': 'auto', 'primary_key': 0}, {'name': 'Address', 'type': VARCHAR(length=8000), 'nullable': True, 'default': None, 'autoincrement': 'auto', 'primary_key': 0}, {'name': 'City', 'type': VARCHAR(length=8000), 'nullable': True, 'default': None, 'autoincrement': 'auto', 'primary_key': 0}, {'name': 'Region', 'type': VARCHAR(length=8000), 'nullable': True, 'default': None, 'autoincrement': 'auto', 'primary_key': 0}, {'name': 'PostalCode', 'type': VARCHAR(length=8000), 'nullable': True, 'default': None, 'autoincrement': 'auto', 'primary_key': 0}, {'name': 'Country', 'type': VARCHAR(length=8000), 'nullable': True, 'default': None, 'autoincrement': 'auto', 'primary_key': 0}, {'name': 'Phone', 'type': VARCHAR(length=8000), 'nullable': True, 'default': None, 'autoincrement': 'auto', 'primary_key': 0}, {'name': 'Fax', 'type': VARCHAR(length=8000), 'nullable': True, 'default': None, 'autoincrement': 'auto', 'primary_key': 0}]\n",
      "\n",
      "\n",
      "Column names in table CUSTOMERCUSTOMERDEMO:\n",
      "2019-01-31 22:13:22,949 INFO sqlalchemy.engine.base.Engine PRAGMA table_info(\"CustomerCustomerDemo\")\n",
      "2019-01-31 22:13:22,949 INFO sqlalchemy.engine.base.Engine ()\n",
      "\n",
      " [{'name': 'Id', 'type': VARCHAR(length=8000), 'nullable': True, 'default': None, 'autoincrement': 'auto', 'primary_key': 1}, {'name': 'CustomerTypeId', 'type': VARCHAR(length=8000), 'nullable': True, 'default': None, 'autoincrement': 'auto', 'primary_key': 0}]\n",
      "\n",
      "\n",
      "Column names in table CUSTOMERDEMOGRAPHIC:\n",
      "2019-01-31 22:13:22,953 INFO sqlalchemy.engine.base.Engine PRAGMA table_info(\"CustomerDemographic\")\n",
      "2019-01-31 22:13:22,954 INFO sqlalchemy.engine.base.Engine ()\n",
      "\n",
      " [{'name': 'Id', 'type': VARCHAR(length=8000), 'nullable': True, 'default': None, 'autoincrement': 'auto', 'primary_key': 1}, {'name': 'CustomerDesc', 'type': VARCHAR(length=8000), 'nullable': True, 'default': None, 'autoincrement': 'auto', 'primary_key': 0}]\n",
      "\n",
      "\n",
      "Column names in table EMPLOYEE:\n",
      "2019-01-31 22:13:22,958 INFO sqlalchemy.engine.base.Engine PRAGMA table_info(\"Employee\")\n",
      "2019-01-31 22:13:22,959 INFO sqlalchemy.engine.base.Engine ()\n",
      "\n",
      " [{'name': 'Id', 'type': INTEGER(), 'nullable': True, 'default': None, 'autoincrement': 'auto', 'primary_key': 1}, {'name': 'LastName', 'type': VARCHAR(length=8000), 'nullable': True, 'default': None, 'autoincrement': 'auto', 'primary_key': 0}, {'name': 'FirstName', 'type': VARCHAR(length=8000), 'nullable': True, 'default': None, 'autoincrement': 'auto', 'primary_key': 0}, {'name': 'Title', 'type': VARCHAR(length=8000), 'nullable': True, 'default': None, 'autoincrement': 'auto', 'primary_key': 0}, {'name': 'TitleOfCourtesy', 'type': VARCHAR(length=8000), 'nullable': True, 'default': None, 'autoincrement': 'auto', 'primary_key': 0}, {'name': 'BirthDate', 'type': VARCHAR(length=8000), 'nullable': True, 'default': None, 'autoincrement': 'auto', 'primary_key': 0}, {'name': 'HireDate', 'type': VARCHAR(length=8000), 'nullable': True, 'default': None, 'autoincrement': 'auto', 'primary_key': 0}, {'name': 'Address', 'type': VARCHAR(length=8000), 'nullable': True, 'default': None, 'autoincrement': 'auto', 'primary_key': 0}, {'name': 'City', 'type': VARCHAR(length=8000), 'nullable': True, 'default': None, 'autoincrement': 'auto', 'primary_key': 0}, {'name': 'Region', 'type': VARCHAR(length=8000), 'nullable': True, 'default': None, 'autoincrement': 'auto', 'primary_key': 0}, {'name': 'PostalCode', 'type': VARCHAR(length=8000), 'nullable': True, 'default': None, 'autoincrement': 'auto', 'primary_key': 0}, {'name': 'Country', 'type': VARCHAR(length=8000), 'nullable': True, 'default': None, 'autoincrement': 'auto', 'primary_key': 0}, {'name': 'HomePhone', 'type': VARCHAR(length=8000), 'nullable': True, 'default': None, 'autoincrement': 'auto', 'primary_key': 0}, {'name': 'Extension', 'type': VARCHAR(length=8000), 'nullable': True, 'default': None, 'autoincrement': 'auto', 'primary_key': 0}, {'name': 'Photo', 'type': BLOB(), 'nullable': True, 'default': None, 'autoincrement': 'auto', 'primary_key': 0}, {'name': 'Notes', 'type': VARCHAR(length=8000), 'nullable': True, 'default': None, 'autoincrement': 'auto', 'primary_key': 0}, {'name': 'ReportsTo', 'type': INTEGER(), 'nullable': True, 'default': None, 'autoincrement': 'auto', 'primary_key': 0}, {'name': 'PhotoPath', 'type': VARCHAR(length=8000), 'nullable': True, 'default': None, 'autoincrement': 'auto', 'primary_key': 0}]\n",
      "\n",
      "\n",
      "Column names in table EMPLOYEETERRITORY:\n",
      "2019-01-31 22:13:22,966 INFO sqlalchemy.engine.base.Engine PRAGMA table_info(\"EmployeeTerritory\")\n",
      "2019-01-31 22:13:22,967 INFO sqlalchemy.engine.base.Engine ()\n",
      "\n",
      " [{'name': 'Id', 'type': VARCHAR(length=8000), 'nullable': True, 'default': None, 'autoincrement': 'auto', 'primary_key': 1}, {'name': 'EmployeeId', 'type': INTEGER(), 'nullable': False, 'default': None, 'autoincrement': 'auto', 'primary_key': 0}, {'name': 'TerritoryId', 'type': VARCHAR(length=8000), 'nullable': True, 'default': None, 'autoincrement': 'auto', 'primary_key': 0}]\n",
      "\n",
      "\n",
      "Column names in table ORDER:\n",
      "2019-01-31 22:13:22,983 INFO sqlalchemy.engine.base.Engine PRAGMA table_info(\"Order\")\n",
      "2019-01-31 22:13:22,985 INFO sqlalchemy.engine.base.Engine ()\n",
      "\n",
      " [{'name': 'Id', 'type': INTEGER(), 'nullable': True, 'default': None, 'autoincrement': 'auto', 'primary_key': 1}, {'name': 'CustomerId', 'type': VARCHAR(length=8000), 'nullable': True, 'default': None, 'autoincrement': 'auto', 'primary_key': 0}, {'name': 'EmployeeId', 'type': INTEGER(), 'nullable': False, 'default': None, 'autoincrement': 'auto', 'primary_key': 0}, {'name': 'OrderDate', 'type': VARCHAR(length=8000), 'nullable': True, 'default': None, 'autoincrement': 'auto', 'primary_key': 0}, {'name': 'RequiredDate', 'type': VARCHAR(length=8000), 'nullable': True, 'default': None, 'autoincrement': 'auto', 'primary_key': 0}, {'name': 'ShippedDate', 'type': VARCHAR(length=8000), 'nullable': True, 'default': None, 'autoincrement': 'auto', 'primary_key': 0}, {'name': 'ShipVia', 'type': INTEGER(), 'nullable': True, 'default': None, 'autoincrement': 'auto', 'primary_key': 0}, {'name': 'Freight', 'type': DECIMAL(), 'nullable': False, 'default': None, 'autoincrement': 'auto', 'primary_key': 0}, {'name': 'ShipName', 'type': VARCHAR(length=8000), 'nullable': True, 'default': None, 'autoincrement': 'auto', 'primary_key': 0}, {'name': 'ShipAddress', 'type': VARCHAR(length=8000), 'nullable': True, 'default': None, 'autoincrement': 'auto', 'primary_key': 0}, {'name': 'ShipCity', 'type': VARCHAR(length=8000), 'nullable': True, 'default': None, 'autoincrement': 'auto', 'primary_key': 0}, {'name': 'ShipRegion', 'type': VARCHAR(length=8000), 'nullable': True, 'default': None, 'autoincrement': 'auto', 'primary_key': 0}, {'name': 'ShipPostalCode', 'type': VARCHAR(length=8000), 'nullable': True, 'default': None, 'autoincrement': 'auto', 'primary_key': 0}, {'name': 'ShipCountry', 'type': VARCHAR(length=8000), 'nullable': True, 'default': None, 'autoincrement': 'auto', 'primary_key': 0}]\n",
      "\n",
      "\n",
      "Column names in table ORDERDETAIL:\n",
      "2019-01-31 22:13:22,998 INFO sqlalchemy.engine.base.Engine PRAGMA table_info(\"OrderDetail\")\n"
     ]
    },
    {
     "name": "stdout",
     "output_type": "stream",
     "text": [
      "2019-01-31 22:13:22,999 INFO sqlalchemy.engine.base.Engine ()\n",
      "\n",
      " [{'name': 'Id', 'type': VARCHAR(length=8000), 'nullable': True, 'default': None, 'autoincrement': 'auto', 'primary_key': 1}, {'name': 'OrderId', 'type': INTEGER(), 'nullable': False, 'default': None, 'autoincrement': 'auto', 'primary_key': 0}, {'name': 'ProductId', 'type': INTEGER(), 'nullable': False, 'default': None, 'autoincrement': 'auto', 'primary_key': 0}, {'name': 'UnitPrice', 'type': DECIMAL(), 'nullable': False, 'default': None, 'autoincrement': 'auto', 'primary_key': 0}, {'name': 'Quantity', 'type': INTEGER(), 'nullable': False, 'default': None, 'autoincrement': 'auto', 'primary_key': 0}, {'name': 'Discount', 'type': FLOAT(), 'nullable': False, 'default': None, 'autoincrement': 'auto', 'primary_key': 0}]\n",
      "\n",
      "\n",
      "Column names in table PRODUCT:\n",
      "2019-01-31 22:13:23,012 INFO sqlalchemy.engine.base.Engine PRAGMA table_info(\"Product\")\n",
      "2019-01-31 22:13:23,015 INFO sqlalchemy.engine.base.Engine ()\n",
      "\n",
      " [{'name': 'Id', 'type': INTEGER(), 'nullable': True, 'default': None, 'autoincrement': 'auto', 'primary_key': 1}, {'name': 'ProductName', 'type': VARCHAR(length=8000), 'nullable': True, 'default': None, 'autoincrement': 'auto', 'primary_key': 0}, {'name': 'SupplierId', 'type': INTEGER(), 'nullable': False, 'default': None, 'autoincrement': 'auto', 'primary_key': 0}, {'name': 'CategoryId', 'type': INTEGER(), 'nullable': False, 'default': None, 'autoincrement': 'auto', 'primary_key': 0}, {'name': 'QuantityPerUnit', 'type': VARCHAR(length=8000), 'nullable': True, 'default': None, 'autoincrement': 'auto', 'primary_key': 0}, {'name': 'UnitPrice', 'type': DECIMAL(), 'nullable': False, 'default': None, 'autoincrement': 'auto', 'primary_key': 0}, {'name': 'UnitsInStock', 'type': INTEGER(), 'nullable': False, 'default': None, 'autoincrement': 'auto', 'primary_key': 0}, {'name': 'UnitsOnOrder', 'type': INTEGER(), 'nullable': False, 'default': None, 'autoincrement': 'auto', 'primary_key': 0}, {'name': 'ReorderLevel', 'type': INTEGER(), 'nullable': False, 'default': None, 'autoincrement': 'auto', 'primary_key': 0}, {'name': 'Discontinued', 'type': INTEGER(), 'nullable': False, 'default': None, 'autoincrement': 'auto', 'primary_key': 0}]\n",
      "\n",
      "\n",
      "Column names in table REGION:\n",
      "2019-01-31 22:13:23,030 INFO sqlalchemy.engine.base.Engine PRAGMA table_info(\"Region\")\n",
      "2019-01-31 22:13:23,031 INFO sqlalchemy.engine.base.Engine ()\n",
      "\n",
      " [{'name': 'Id', 'type': INTEGER(), 'nullable': True, 'default': None, 'autoincrement': 'auto', 'primary_key': 1}, {'name': 'RegionDescription', 'type': VARCHAR(length=8000), 'nullable': True, 'default': None, 'autoincrement': 'auto', 'primary_key': 0}]\n",
      "\n",
      "\n",
      "Column names in table SHIPPER:\n",
      "2019-01-31 22:13:23,037 INFO sqlalchemy.engine.base.Engine PRAGMA table_info(\"Shipper\")\n",
      "2019-01-31 22:13:23,038 INFO sqlalchemy.engine.base.Engine ()\n",
      "\n",
      " [{'name': 'Id', 'type': INTEGER(), 'nullable': True, 'default': None, 'autoincrement': 'auto', 'primary_key': 1}, {'name': 'CompanyName', 'type': VARCHAR(length=8000), 'nullable': True, 'default': None, 'autoincrement': 'auto', 'primary_key': 0}, {'name': 'Phone', 'type': VARCHAR(length=8000), 'nullable': True, 'default': None, 'autoincrement': 'auto', 'primary_key': 0}]\n",
      "\n",
      "\n",
      "Column names in table SUPPLIER:\n",
      "2019-01-31 22:13:23,045 INFO sqlalchemy.engine.base.Engine PRAGMA table_info(\"Supplier\")\n",
      "2019-01-31 22:13:23,047 INFO sqlalchemy.engine.base.Engine ()\n",
      "\n",
      " [{'name': 'Id', 'type': INTEGER(), 'nullable': True, 'default': None, 'autoincrement': 'auto', 'primary_key': 1}, {'name': 'CompanyName', 'type': VARCHAR(length=8000), 'nullable': True, 'default': None, 'autoincrement': 'auto', 'primary_key': 0}, {'name': 'ContactName', 'type': VARCHAR(length=8000), 'nullable': True, 'default': None, 'autoincrement': 'auto', 'primary_key': 0}, {'name': 'ContactTitle', 'type': VARCHAR(length=8000), 'nullable': True, 'default': None, 'autoincrement': 'auto', 'primary_key': 0}, {'name': 'Address', 'type': VARCHAR(length=8000), 'nullable': True, 'default': None, 'autoincrement': 'auto', 'primary_key': 0}, {'name': 'City', 'type': VARCHAR(length=8000), 'nullable': True, 'default': None, 'autoincrement': 'auto', 'primary_key': 0}, {'name': 'Region', 'type': VARCHAR(length=8000), 'nullable': True, 'default': None, 'autoincrement': 'auto', 'primary_key': 0}, {'name': 'PostalCode', 'type': VARCHAR(length=8000), 'nullable': True, 'default': None, 'autoincrement': 'auto', 'primary_key': 0}, {'name': 'Country', 'type': VARCHAR(length=8000), 'nullable': True, 'default': None, 'autoincrement': 'auto', 'primary_key': 0}, {'name': 'Phone', 'type': VARCHAR(length=8000), 'nullable': True, 'default': None, 'autoincrement': 'auto', 'primary_key': 0}, {'name': 'Fax', 'type': VARCHAR(length=8000), 'nullable': True, 'default': None, 'autoincrement': 'auto', 'primary_key': 0}, {'name': 'HomePage', 'type': VARCHAR(length=8000), 'nullable': True, 'default': None, 'autoincrement': 'auto', 'primary_key': 0}]\n",
      "\n",
      "\n",
      "Column names in table TERRITORY:\n",
      "2019-01-31 22:13:23,055 INFO sqlalchemy.engine.base.Engine PRAGMA table_info(\"Territory\")\n",
      "2019-01-31 22:13:23,057 INFO sqlalchemy.engine.base.Engine ()\n",
      "\n",
      " [{'name': 'Id', 'type': VARCHAR(length=8000), 'nullable': True, 'default': None, 'autoincrement': 'auto', 'primary_key': 1}, {'name': 'TerritoryDescription', 'type': VARCHAR(length=8000), 'nullable': True, 'default': None, 'autoincrement': 'auto', 'primary_key': 0}, {'name': 'RegionId', 'type': INTEGER(), 'nullable': False, 'default': None, 'autoincrement': 'auto', 'primary_key': 0}]\n",
      "\n",
      "\n"
     ]
    }
   ],
   "source": [
    "table_names = inspector.get_table_names() # get tablle names from the Sql database\n",
    "print(table_names)\n",
    "for name in table_names:    \n",
    "    print('Column names in table {}:'.format(name.upper()))\n",
    "    print('\\n',inspector.get_columns(name))\n",
    "    print('\\n')"
   ]
  },
  {
   "cell_type": "code",
   "execution_count": 14,
   "metadata": {},
   "outputs": [],
   "source": [
    "def Cohen_d(group1, group2): #define cohen d for effect size testing\n",
    "\n",
    "    diff = group1.mean() - group2.mean()\n",
    "\n",
    "    n1, n2 = len(group1), len(group2)\n",
    "    var1 = group1.var()\n",
    "    var2 = group2.var()\n",
    "\n",
    "    # Calculate the pooled threshold as shown earlier\n",
    "    pooled_var = (n1 * var1 + n2 * var2) / (n1 + n2)\n",
    "    \n",
    "    # Calculate Cohen's d statistic\n",
    "    d = diff / np.sqrt(pooled_var)\n",
    "    \n",
    "    return d"
   ]
  },
  {
   "cell_type": "markdown",
   "metadata": {},
   "source": [
    "After inspecting the column information, it seems that the schema is up to date.  "
   ]
  },
  {
   "cell_type": "markdown",
   "metadata": {},
   "source": [
    "### Initial Exploration"
   ]
  },
  {
   "cell_type": "markdown",
   "metadata": {},
   "source": [
    "The goal here is to get an idea of the data I will be using so that I can use that to inform the questions I will be exploring. The plan is to create some DataFrames that I can start to explore and use for testing. I will start by creating a dictionary of the tables that will allow me to explore more efficiently."
   ]
  },
  {
   "cell_type": "code",
   "execution_count": 4,
   "metadata": {
    "scrolled": true
   },
   "outputs": [
    {
     "name": "stdout",
     "output_type": "stream",
     "text": [
      "2019-01-31 22:13:26,785 INFO sqlalchemy.engine.base.Engine SELECT * FROM [Category]\n",
      "2019-01-31 22:13:26,787 INFO sqlalchemy.engine.base.Engine ()\n",
      "2019-01-31 22:13:26,806 INFO sqlalchemy.engine.base.Engine SELECT * FROM [Customer]\n",
      "2019-01-31 22:13:26,807 INFO sqlalchemy.engine.base.Engine ()\n",
      "2019-01-31 22:13:26,814 INFO sqlalchemy.engine.base.Engine SELECT * FROM [CustomerCustomerDemo]\n",
      "2019-01-31 22:13:26,815 INFO sqlalchemy.engine.base.Engine ()\n",
      "2019-01-31 22:13:26,820 INFO sqlalchemy.engine.base.Engine SELECT * FROM [CustomerDemographic]\n",
      "2019-01-31 22:13:26,821 INFO sqlalchemy.engine.base.Engine ()\n",
      "2019-01-31 22:13:26,825 INFO sqlalchemy.engine.base.Engine SELECT * FROM [Employee]\n",
      "2019-01-31 22:13:26,826 INFO sqlalchemy.engine.base.Engine ()\n",
      "2019-01-31 22:13:26,835 INFO sqlalchemy.engine.base.Engine SELECT * FROM [EmployeeTerritory]\n",
      "2019-01-31 22:13:26,836 INFO sqlalchemy.engine.base.Engine ()\n",
      "2019-01-31 22:13:26,843 INFO sqlalchemy.engine.base.Engine SELECT * FROM [Order]\n",
      "2019-01-31 22:13:26,844 INFO sqlalchemy.engine.base.Engine ()\n",
      "2019-01-31 22:13:26,865 INFO sqlalchemy.engine.base.Engine SELECT * FROM [OrderDetail]\n",
      "2019-01-31 22:13:26,866 INFO sqlalchemy.engine.base.Engine ()\n",
      "2019-01-31 22:13:26,883 INFO sqlalchemy.engine.base.Engine SELECT * FROM [Product]\n",
      "2019-01-31 22:13:26,884 INFO sqlalchemy.engine.base.Engine ()\n",
      "2019-01-31 22:13:26,890 INFO sqlalchemy.engine.base.Engine SELECT * FROM [Region]\n",
      "2019-01-31 22:13:26,891 INFO sqlalchemy.engine.base.Engine ()\n",
      "2019-01-31 22:13:26,896 INFO sqlalchemy.engine.base.Engine SELECT * FROM [Shipper]\n",
      "2019-01-31 22:13:26,898 INFO sqlalchemy.engine.base.Engine ()\n",
      "2019-01-31 22:13:26,904 INFO sqlalchemy.engine.base.Engine SELECT * FROM [Supplier]\n",
      "2019-01-31 22:13:26,908 INFO sqlalchemy.engine.base.Engine ()\n",
      "2019-01-31 22:13:26,915 INFO sqlalchemy.engine.base.Engine SELECT * FROM [Territory]\n",
      "2019-01-31 22:13:26,916 INFO sqlalchemy.engine.base.Engine ()\n"
     ]
    }
   ],
   "source": [
    "import pandas as pd \n",
    "df={} #import the database into pandas library for further exploration\n",
    "for table_name in table_names:\n",
    "    df[table_name] = pd.read_sql_query('''SELECT * FROM [{}]'''.format(table_name),con)"
   ]
  },
  {
   "cell_type": "code",
   "execution_count": 5,
   "metadata": {
    "scrolled": true
   },
   "outputs": [
    {
     "name": "stdout",
     "output_type": "stream",
     "text": [
      ".info() analysis for Category\n",
      "<class 'pandas.core.frame.DataFrame'>\n",
      "RangeIndex: 8 entries, 0 to 7\n",
      "Data columns (total 3 columns):\n",
      "Id              8 non-null int64\n",
      "CategoryName    8 non-null object\n",
      "Description     8 non-null object\n",
      "dtypes: int64(1), object(2)\n",
      "memory usage: 272.0+ bytes\n",
      "\n",
      " None\n",
      "\n",
      "\n",
      ".info() analysis for Customer\n",
      "<class 'pandas.core.frame.DataFrame'>\n",
      "RangeIndex: 91 entries, 0 to 90\n",
      "Data columns (total 11 columns):\n",
      "Id              91 non-null object\n",
      "CompanyName     91 non-null object\n",
      "ContactName     91 non-null object\n",
      "ContactTitle    91 non-null object\n",
      "Address         91 non-null object\n",
      "City            91 non-null object\n",
      "Region          91 non-null object\n",
      "PostalCode      90 non-null object\n",
      "Country         91 non-null object\n",
      "Phone           91 non-null object\n",
      "Fax             69 non-null object\n",
      "dtypes: object(11)\n",
      "memory usage: 7.9+ KB\n",
      "\n",
      " None\n",
      "\n",
      "\n",
      ".info() analysis for CustomerCustomerDemo\n",
      "<class 'pandas.core.frame.DataFrame'>\n",
      "Index: 0 entries\n",
      "Data columns (total 2 columns):\n",
      "Id                0 non-null object\n",
      "CustomerTypeId    0 non-null object\n",
      "dtypes: object(2)\n",
      "memory usage: 0.0+ bytes\n",
      "\n",
      " None\n",
      "\n",
      "\n",
      ".info() analysis for CustomerDemographic\n",
      "<class 'pandas.core.frame.DataFrame'>\n",
      "Index: 0 entries\n",
      "Data columns (total 2 columns):\n",
      "Id              0 non-null object\n",
      "CustomerDesc    0 non-null object\n",
      "dtypes: object(2)\n",
      "memory usage: 0.0+ bytes\n",
      "\n",
      " None\n",
      "\n",
      "\n",
      ".info() analysis for Employee\n",
      "<class 'pandas.core.frame.DataFrame'>\n",
      "RangeIndex: 9 entries, 0 to 8\n",
      "Data columns (total 18 columns):\n",
      "Id                 9 non-null int64\n",
      "LastName           9 non-null object\n",
      "FirstName          9 non-null object\n",
      "Title              9 non-null object\n",
      "TitleOfCourtesy    9 non-null object\n",
      "BirthDate          9 non-null object\n",
      "HireDate           9 non-null object\n",
      "Address            9 non-null object\n",
      "City               9 non-null object\n",
      "Region             9 non-null object\n",
      "PostalCode         9 non-null object\n",
      "Country            9 non-null object\n",
      "HomePhone          9 non-null object\n",
      "Extension          9 non-null object\n",
      "Photo              0 non-null object\n",
      "Notes              9 non-null object\n",
      "ReportsTo          8 non-null float64\n",
      "PhotoPath          9 non-null object\n",
      "dtypes: float64(1), int64(1), object(16)\n",
      "memory usage: 1.3+ KB\n",
      "\n",
      " None\n",
      "\n",
      "\n",
      ".info() analysis for EmployeeTerritory\n",
      "<class 'pandas.core.frame.DataFrame'>\n",
      "RangeIndex: 49 entries, 0 to 48\n",
      "Data columns (total 3 columns):\n",
      "Id             49 non-null object\n",
      "EmployeeId     49 non-null int64\n",
      "TerritoryId    49 non-null object\n",
      "dtypes: int64(1), object(2)\n",
      "memory usage: 1.2+ KB\n",
      "\n",
      " None\n",
      "\n",
      "\n",
      ".info() analysis for Order\n",
      "<class 'pandas.core.frame.DataFrame'>\n",
      "RangeIndex: 830 entries, 0 to 829\n",
      "Data columns (total 14 columns):\n",
      "Id                830 non-null int64\n",
      "CustomerId        830 non-null object\n",
      "EmployeeId        830 non-null int64\n",
      "OrderDate         830 non-null object\n",
      "RequiredDate      830 non-null object\n",
      "ShippedDate       809 non-null object\n",
      "ShipVia           830 non-null int64\n",
      "Freight           830 non-null float64\n",
      "ShipName          830 non-null object\n",
      "ShipAddress       830 non-null object\n",
      "ShipCity          830 non-null object\n",
      "ShipRegion        830 non-null object\n",
      "ShipPostalCode    811 non-null object\n",
      "ShipCountry       830 non-null object\n",
      "dtypes: float64(1), int64(3), object(10)\n",
      "memory usage: 90.9+ KB\n",
      "\n",
      " None\n",
      "\n",
      "\n",
      ".info() analysis for OrderDetail\n",
      "<class 'pandas.core.frame.DataFrame'>\n",
      "RangeIndex: 2155 entries, 0 to 2154\n",
      "Data columns (total 6 columns):\n",
      "Id           2155 non-null object\n",
      "OrderId      2155 non-null int64\n",
      "ProductId    2155 non-null int64\n",
      "UnitPrice    2155 non-null float64\n",
      "Quantity     2155 non-null int64\n",
      "Discount     2155 non-null float64\n",
      "dtypes: float64(2), int64(3), object(1)\n",
      "memory usage: 101.1+ KB\n",
      "\n",
      " None\n",
      "\n",
      "\n",
      ".info() analysis for Product\n",
      "<class 'pandas.core.frame.DataFrame'>\n",
      "RangeIndex: 77 entries, 0 to 76\n",
      "Data columns (total 10 columns):\n",
      "Id                 77 non-null int64\n",
      "ProductName        77 non-null object\n",
      "SupplierId         77 non-null int64\n",
      "CategoryId         77 non-null int64\n",
      "QuantityPerUnit    77 non-null object\n",
      "UnitPrice          77 non-null float64\n",
      "UnitsInStock       77 non-null int64\n",
      "UnitsOnOrder       77 non-null int64\n",
      "ReorderLevel       77 non-null int64\n",
      "Discontinued       77 non-null int64\n",
      "dtypes: float64(1), int64(7), object(2)\n",
      "memory usage: 6.1+ KB\n",
      "\n",
      " None\n",
      "\n",
      "\n",
      ".info() analysis for Region\n",
      "<class 'pandas.core.frame.DataFrame'>\n",
      "RangeIndex: 4 entries, 0 to 3\n",
      "Data columns (total 2 columns):\n",
      "Id                   4 non-null int64\n",
      "RegionDescription    4 non-null object\n",
      "dtypes: int64(1), object(1)\n",
      "memory usage: 144.0+ bytes\n",
      "\n",
      " None\n",
      "\n",
      "\n",
      ".info() analysis for Shipper\n",
      "<class 'pandas.core.frame.DataFrame'>\n",
      "RangeIndex: 3 entries, 0 to 2\n",
      "Data columns (total 3 columns):\n",
      "Id             3 non-null int64\n",
      "CompanyName    3 non-null object\n",
      "Phone          3 non-null object\n",
      "dtypes: int64(1), object(2)\n",
      "memory usage: 152.0+ bytes\n",
      "\n",
      " None\n",
      "\n",
      "\n",
      ".info() analysis for Supplier\n",
      "<class 'pandas.core.frame.DataFrame'>\n",
      "RangeIndex: 29 entries, 0 to 28\n",
      "Data columns (total 12 columns):\n",
      "Id              29 non-null int64\n",
      "CompanyName     29 non-null object\n",
      "ContactName     29 non-null object\n",
      "ContactTitle    29 non-null object\n",
      "Address         29 non-null object\n",
      "City            29 non-null object\n",
      "Region          29 non-null object\n",
      "PostalCode      29 non-null object\n",
      "Country         29 non-null object\n",
      "Phone           29 non-null object\n",
      "Fax             13 non-null object\n",
      "HomePage        5 non-null object\n",
      "dtypes: int64(1), object(11)\n",
      "memory usage: 2.8+ KB\n",
      "\n",
      " None\n",
      "\n",
      "\n",
      ".info() analysis for Territory\n",
      "<class 'pandas.core.frame.DataFrame'>\n",
      "RangeIndex: 53 entries, 0 to 52\n",
      "Data columns (total 3 columns):\n",
      "Id                      53 non-null object\n",
      "TerritoryDescription    53 non-null object\n",
      "RegionId                53 non-null int64\n",
      "dtypes: int64(1), object(2)\n",
      "memory usage: 1.3+ KB\n",
      "\n",
      " None\n",
      "\n",
      "\n"
     ]
    }
   ],
   "source": [
    "for table_name in table_names: #print .info() too look for missing data\n",
    "    print('.info() analysis for {}'.format(table_name))\n",
    "    print('\\n',df[table_name].info())\n",
    "    print('\\n')"
   ]
  },
  {
   "cell_type": "markdown",
   "metadata": {},
   "source": [
    "It seems there is no missing data so I can move on. \n",
    "\n",
    "The final preporation work I would like to do is create a total category that takes the number of products and multiplies it by the unit_price (with discount if appropriate) so that I can get a total sales value for orders. "
   ]
  },
  {
   "cell_type": "code",
   "execution_count": 6,
   "metadata": {},
   "outputs": [
    {
     "data": {
      "text/html": [
       "<div>\n",
       "<style scoped>\n",
       "    .dataframe tbody tr th:only-of-type {\n",
       "        vertical-align: middle;\n",
       "    }\n",
       "\n",
       "    .dataframe tbody tr th {\n",
       "        vertical-align: top;\n",
       "    }\n",
       "\n",
       "    .dataframe thead th {\n",
       "        text-align: right;\n",
       "    }\n",
       "</style>\n",
       "<table border=\"1\" class=\"dataframe\">\n",
       "  <thead>\n",
       "    <tr style=\"text-align: right;\">\n",
       "      <th></th>\n",
       "      <th>Id</th>\n",
       "      <th>OrderId</th>\n",
       "      <th>ProductId</th>\n",
       "      <th>UnitPrice</th>\n",
       "      <th>Quantity</th>\n",
       "      <th>Discount</th>\n",
       "      <th>Total</th>\n",
       "    </tr>\n",
       "  </thead>\n",
       "  <tbody>\n",
       "    <tr>\n",
       "      <th>0</th>\n",
       "      <td>10248/11</td>\n",
       "      <td>10248</td>\n",
       "      <td>11</td>\n",
       "      <td>14.0</td>\n",
       "      <td>12</td>\n",
       "      <td>0.0</td>\n",
       "      <td>168.0</td>\n",
       "    </tr>\n",
       "    <tr>\n",
       "      <th>1</th>\n",
       "      <td>10248/42</td>\n",
       "      <td>10248</td>\n",
       "      <td>42</td>\n",
       "      <td>9.8</td>\n",
       "      <td>10</td>\n",
       "      <td>0.0</td>\n",
       "      <td>98.0</td>\n",
       "    </tr>\n",
       "    <tr>\n",
       "      <th>2</th>\n",
       "      <td>10248/72</td>\n",
       "      <td>10248</td>\n",
       "      <td>72</td>\n",
       "      <td>34.8</td>\n",
       "      <td>5</td>\n",
       "      <td>0.0</td>\n",
       "      <td>174.0</td>\n",
       "    </tr>\n",
       "    <tr>\n",
       "      <th>3</th>\n",
       "      <td>10249/14</td>\n",
       "      <td>10249</td>\n",
       "      <td>14</td>\n",
       "      <td>18.6</td>\n",
       "      <td>9</td>\n",
       "      <td>0.0</td>\n",
       "      <td>167.4</td>\n",
       "    </tr>\n",
       "    <tr>\n",
       "      <th>4</th>\n",
       "      <td>10249/51</td>\n",
       "      <td>10249</td>\n",
       "      <td>51</td>\n",
       "      <td>42.4</td>\n",
       "      <td>40</td>\n",
       "      <td>0.0</td>\n",
       "      <td>1696.0</td>\n",
       "    </tr>\n",
       "  </tbody>\n",
       "</table>\n",
       "</div>"
      ],
      "text/plain": [
       "         Id  OrderId  ProductId  UnitPrice  Quantity  Discount   Total\n",
       "0  10248/11    10248         11       14.0        12       0.0   168.0\n",
       "1  10248/42    10248         42        9.8        10       0.0    98.0\n",
       "2  10248/72    10248         72       34.8         5       0.0   174.0\n",
       "3  10249/14    10249         14       18.6         9       0.0   167.4\n",
       "4  10249/51    10249         51       42.4        40       0.0  1696.0"
      ]
     },
     "execution_count": 6,
     "metadata": {},
     "output_type": "execute_result"
    }
   ],
   "source": [
    "df['OrderDetail']['Total'] = df['OrderDetail']['Quantity'] * (df['OrderDetail']['UnitPrice']-(df['OrderDetail']['UnitPrice']*df['OrderDetail']['Discount']))\n",
    "df['OrderDetail'].head()\n"
   ]
  },
  {
   "cell_type": "markdown",
   "metadata": {},
   "source": [
    "The 4 questions I will be attempting to answer through my testing are:\n",
    "\n",
    ">1. ***Do discounts have a statistically significant effect on the number of products customers order? If so, at what level(s) of discount?***\n",
    "\n",
    ">2. ***Looking for the top performers: Is the UK or US sales team sell more product? Are men or women more productive? Who is the top Sales Person?***\n",
    "\n",
    ">3. ***Is there a difference in the mean number of products sold in a sales categories by region?***\n",
    "\n",
    ">4. ***Is there a difference in the number of imports and domestic products that customers purchase and the revenue they create?***"
   ]
  },
  {
   "cell_type": "markdown",
   "metadata": {},
   "source": [
    "-----\n",
    "# Hypothesis 1"
   ]
  },
  {
   "cell_type": "markdown",
   "metadata": {},
   "source": [
    "## 1. Ask a Question\n",
    "\n",
    "The first question that I am trying to answer is the following:\n",
    "\n",
    ">*Do discounts have a statistically significant effect on the number of products customers order? If so, at what level(s) of discount?*\n",
    "\n",
    "or\n",
    "\n",
    ">*Is there a difference in the mean quantity of products sold between levels of discount?*\n",
    "\n",
    "### Null Hypothesis:\n",
    "**$H0: \\mu_0  =  \\mu_A$**\n",
    "\n",
    "### Alternative Hypothesis:\n",
    "**$HA: \\mu_0  !=  \\mu_A$**\n",
    "\n",
    "I am interested in running two tests, the first bing a simple t-test that compares any discount to no discount. The second test I will run is a tukey test to determine if there is a difference between the levels of discounts. The significance value I will use is a value of p=0.05. "
   ]
  },
  {
   "cell_type": "markdown",
   "metadata": {},
   "source": [
    "## 2. Do Background Research"
   ]
  },
  {
   "cell_type": "code",
   "execution_count": 39,
   "metadata": {},
   "outputs": [
    {
     "name": "stdout",
     "output_type": "stream",
     "text": [
      "   Quantity  Discount\n",
      "0        12       0.0\n",
      "1        10       0.0\n",
      "2         5       0.0\n",
      "3         9       0.0\n",
      "4        40       0.0\n",
      "0.00    1317\n",
      "0.05     185\n",
      "0.10     173\n",
      "0.20     161\n",
      "0.15     157\n",
      "0.25     154\n",
      "0.03       3\n",
      "0.02       2\n",
      "0.01       1\n",
      "0.04       1\n",
      "0.06       1\n",
      "Name: Discount, dtype: int64\n"
     ]
    }
   ],
   "source": [
    "h1=pd.DataFrame(df['OrderDetail'][['Quantity','Discount']]) #create a dataframe of my data\n",
    "print(h1.head())\n",
    "print(h1['Discount'].value_counts()) "
   ]
  },
  {
   "cell_type": "code",
   "execution_count": 40,
   "metadata": {},
   "outputs": [
    {
     "data": {
      "text/plain": [
       "0%     1317\n",
       "5%      192\n",
       "10%     174\n",
       "20%     161\n",
       "15%     157\n",
       "25%     154\n",
       "Name: Discount, dtype: int64"
      ]
     },
     "execution_count": 40,
     "metadata": {},
     "output_type": "execute_result"
    }
   ],
   "source": [
    "bins_grade = ['0%', '5%', '10%','15%','20%', '25%'] #combine the discounts into this grouping\n",
    "h1['Discount']= pd.cut(h1['Discount'],[0,0.001,0.05,0.1,0.15,0.20,0.25],labels=bins_grade)\n",
    "h1['Discount'].replace(np.nan,'0%',inplace=True)\n",
    "h1['Discount'].value_counts()"
   ]
  },
  {
   "cell_type": "code",
   "execution_count": 8,
   "metadata": {},
   "outputs": [
    {
     "name": "stderr",
     "output_type": "stream",
     "text": [
      "/anaconda3/lib/python3.7/site-packages/scipy/stats/stats.py:1713: FutureWarning: Using a non-tuple sequence for multidimensional indexing is deprecated; use `arr[tuple(seq)]` instead of `arr[seq]`. In the future this will be interpreted as an array index, `arr[np.array(seq)]`, which will result either in an error or a different result.\n",
      "  return np.add.reduce(sorted[indexer] * weights, axis=axis) / sumval\n"
     ]
    },
    {
     "data": {
      "image/png": "[encoded data removed]",
      "text/plain": [
       "<Figure size 1440x720 with 1 Axes>"
      ]
     },
     "metadata": {},
     "output_type": "display_data"
    }
   ],
   "source": [
    "sns.set(style=\"whitegrid\") # Create a violin plot to show distribution of data\n",
    "f, ax = plt.subplots(figsize=(20, 10))\n",
    "\n",
    "\n",
    "sns.violinplot(x=\"Discount\",y=\"Quantity\",data=h1, inner=\"box\", palette=\"Set3\", cut=2, linewidth=2)\n",
    "sns.despine(left=True)\n",
    "\n",
    "ax.set_title(\"Visualisation of Quantity distribution by Discount\",size = 20,alpha=0.9)\n",
    "ax.set_xlabel(\"Percent of Discount\",size = 16,alpha=0.8)\n",
    "ax.set_ylabel(\"Number of Products\",size = 16,alpha=0.8)\n",
    "\n",
    "plt.show()\n"
   ]
  },
  {
   "cell_type": "code",
   "execution_count": 56,
   "metadata": {},
   "outputs": [
    {
     "name": "stdout",
     "output_type": "stream",
     "text": [
      "2019-01-31 22:26:49,940 INFO sqlalchemy.engine.base.Engine SELECT quantity FROM orderdetail WHERE discount = 0.\n",
      "2019-01-31 22:26:49,942 INFO sqlalchemy.engine.base.Engine ()\n",
      "2019-01-31 22:26:49,948 INFO sqlalchemy.engine.base.Engine SELECT quantity FROM orderdetail WHERE discount > 0.\n",
      "2019-01-31 22:26:49,949 INFO sqlalchemy.engine.base.Engine ()\n"
     ]
    }
   ],
   "source": [
    "#create my two groups for t-test\n",
    "d_0=con.execute('''SELECT quantity FROM orderdetail WHERE discount = 0.''').fetchall()\n",
    "d_any=con.execute('''SELECT quantity FROM orderdetail WHERE discount > 0.''').fetchall()"
   ]
  },
  {
   "cell_type": "code",
   "execution_count": 57,
   "metadata": {},
   "outputs": [
    {
     "name": "stdout",
     "output_type": "stream",
     "text": [
      "Statistics for zero discounts:\n",
      "Sample Size:  1317\n",
      "Mean:  21.715261958997722\n",
      "Variance:  306.2795924332757\n",
      "\n",
      "\n",
      "Statistics for any discount:\n",
      "Sample Size:  838\n",
      "Mean:  27.10978520286396\n",
      "Variance:  430.93782787748984\n"
     ]
    },
    {
     "data": {
      "text/plain": [
       "LeveneResult(statistic=array([14.8326717]), pvalue=array([0.00012091]))"
      ]
     },
     "execution_count": 57,
     "metadata": {},
     "output_type": "execute_result"
    }
   ],
   "source": [
    "#print statitics to look at sample size and variance differences\n",
    "print('Statistics for zero discounts:')\n",
    "print('Sample Size: ',len(d_0))\n",
    "print('Mean: ',np.mean(d_0))\n",
    "print('Variance: ',np.var(d_0))\n",
    "print('\\n')\n",
    "print('Statistics for any discount:')\n",
    "print('Sample Size: ',len(d_any))\n",
    "print('Mean: ',np.mean(d_any))\n",
    "print('Variance: ',np.var(d_any))\n",
    "\n",
    "\n",
    "# Levene Test for testing homogeneity of variances\n",
    "from scipy import stats\n",
    "stats.levene(d_0, d_any)"
   ]
  },
  {
   "cell_type": "markdown",
   "metadata": {},
   "source": [
    "## 3. Test with an Experiment\n",
    "\n",
    "There are a few assumption we need to make in order to be able to compare the means:\n",
    "\n",
    "1. **Data is independent**\n",
    "\n",
    "We can assume the data is independant because we are working with individual products and discounts. \n",
    "\n",
    "2. **Data is collected randomly**\n",
    "\n",
    "We can assume random data.\n",
    "\n",
    "3. **The data is approximately normally distributed**\n",
    "\n",
    "Base on the violin graph about the data seems to be approximately normally distributed. \n",
    "\n",
    "4. **Data sample size and variance are similar**\n",
    "\n",
    "The sample sizes seem to vary and the results from the levene test show that we can not assume homogeniety of the variance. Because of this, we will have to use a Welch's t-Test to compare the means."
   ]
  },
  {
   "cell_type": "markdown",
   "metadata": {},
   "source": [
    "### Test 1"
   ]
  },
  {
   "cell_type": "code",
   "execution_count": 64,
   "metadata": {
    "scrolled": false
   },
   "outputs": [
    {
     "name": "stdout",
     "output_type": "stream",
     "text": [
      "Ttest_indResult(statistic=array([-6.23906914]), pvalue=array([5.65641429e-10]))\n",
      "Cohen's d:  -0.28641058366376676\n"
     ]
    }
   ],
   "source": [
    "print(stats.ttest_ind(d_0,d_any,equal_var=False)) #equal_var=False runs a Welch's t-Test\n",
    "print(\"Cohen's d: \",Cohen_d(np.array(d_0),np.array(d_any)))"
   ]
  },
  {
   "cell_type": "markdown",
   "metadata": {},
   "source": [
    "### Test 2"
   ]
  },
  {
   "cell_type": "code",
   "execution_count": 12,
   "metadata": {
    "scrolled": true
   },
   "outputs": [
    {
     "name": "stdout",
     "output_type": "stream",
     "text": [
      "Multiple Comparison of Means - Tukey HSD,FWER=0.05\n",
      "=============================================\n",
      "group1 group2 meandiff  lower   upper  reject\n",
      "---------------------------------------------\n",
      "  0%    10%    3.3882  -0.9479  7.7243 False \n",
      "  0%    15%    6.6669   2.1282 11.2056  True \n",
      "  0%    20%    5.3096   0.8215  9.7977  True \n",
      "  0%    25%    6.525    1.9469 11.1031  True \n",
      "  0%     5%    5.3368   1.1841  9.4895  True \n",
      " 10%    15%    3.2787  -2.6385  9.196  False \n",
      " 10%    20%    1.9214  -3.9571  7.7999 False \n",
      " 10%    25%    3.1368  -2.8106  9.0843 False \n",
      " 10%     5%    1.9486  -3.6779  7.5752 False \n",
      " 15%    20%   -1.3573  -7.3868  4.6722 False \n",
      " 15%    25%   -0.1419  -6.2387  5.9549 False \n",
      " 15%     5%   -1.3301  -7.1143  4.4541 False \n",
      " 20%    25%    1.2154  -4.8437  7.2746 False \n",
      " 20%     5%    0.0272  -5.7173  5.7718 False \n",
      " 25%     5%   -1.1882  -7.0033  4.6269 False \n",
      "---------------------------------------------\n",
      "['0%' '10%' '15%' '20%' '25%' '5%']\n"
     ]
    }
   ],
   "source": [
    "mc = MultiComparison(h1['Quantity'], h1['Discount'])\n",
    "result = mc.tukeyhsd()\n",
    " \n",
    "print(result)\n",
    "print(mc.groupsunique)"
   ]
  },
  {
   "cell_type": "markdown",
   "metadata": {},
   "source": [
    "## 4. Analize Data and Draw conclusions\n",
    "\n",
    "**Discounts sell more products!**\n",
    "\n",
    "- Using Welch's t-test, we can see that there is a significant difference between the mean products sold when there was no discount offered (21.7) and any amount of discount offered (27.1). **$t= -6.23, p= 5.65641429e-10$**\n",
    "\n",
    "- Using a tukey test, we can further explore that 15% , 20%, and 25% means are significantly different from the mean products sold with no discounts. \n",
    "\n",
    "- 5% discount is significantly different from 0 but 10% is not, while more data could clear up this difference, sticking with a discount of 15% or more will increase the number of items sold. \n",
    "\n",
    "- There is no significant difference between the groups of discount levels. \n",
    "\n",
    "Based on this analysis, I would suggest that if you would like to move more product, you offer a discount of 15%. This will both maximize your products sold as well as your profit. "
   ]
  },
  {
   "cell_type": "markdown",
   "metadata": {},
   "source": [
    "----\n",
    "# Hypothesis 2"
   ]
  },
  {
   "cell_type": "markdown",
   "metadata": {},
   "source": [
    "\n",
    "## 1. Ask a Question\n",
    "\n",
    "The first question that I am trying to answer is the following:\n",
    "\n",
    ">*Is the UK or US sales team sell more product? Are men or women more productive? Who is the top Sales Person?*\n",
    "\n",
    "or\n",
    "\n",
    ">*Is there a significant difference in the mean sales between the US and UK team? Men and Women? Is there a statistically significant top sales person?*\n",
    "\n",
    "### Null Hypothesis:\n",
    "**$H0: \\mu_0  =  \\mu_A$**\n",
    "\n",
    "### Alternative Hypothesis:\n",
    "**$HA: \\mu_0  !=  \\mu_A$**\n",
    "\n",
    "I am interested in running three tests, the first bing a 2-tailed t-test that compares the US vs UK sales teams. The second test I will run is a tukey test to determine if there is a difference between the actual sales representatives. Finally I will run a 2-tailed t-test to see if there is a difference between sexes or the sales team. The significance value I will use is a value of p=0.05. "
   ]
  },
  {
   "cell_type": "markdown",
   "metadata": {},
   "source": [
    "## 2. Do Background Research"
   ]
  },
  {
   "cell_type": "code",
   "execution_count": 9,
   "metadata": {
    "scrolled": true
   },
   "outputs": [
    {
     "data": {
      "text/html": [
       "<div>\n",
       "<style scoped>\n",
       "    .dataframe tbody tr th:only-of-type {\n",
       "        vertical-align: middle;\n",
       "    }\n",
       "\n",
       "    .dataframe tbody tr th {\n",
       "        vertical-align: top;\n",
       "    }\n",
       "\n",
       "    .dataframe thead th {\n",
       "        text-align: right;\n",
       "    }\n",
       "</style>\n",
       "<table border=\"1\" class=\"dataframe\">\n",
       "  <thead>\n",
       "    <tr style=\"text-align: right;\">\n",
       "      <th></th>\n",
       "      <th>Id</th>\n",
       "      <th>CustomerId</th>\n",
       "      <th>OrderDate</th>\n",
       "      <th>RequiredDate</th>\n",
       "      <th>ShippedDate</th>\n",
       "      <th>ShipVia</th>\n",
       "      <th>Freight</th>\n",
       "      <th>ShipName</th>\n",
       "      <th>ShipAddress</th>\n",
       "      <th>ShipCity</th>\n",
       "      <th>ShipRegion</th>\n",
       "      <th>ShipPostalCode</th>\n",
       "      <th>ShipCountry</th>\n",
       "    </tr>\n",
       "    <tr>\n",
       "      <th>EmployeeId</th>\n",
       "      <th></th>\n",
       "      <th></th>\n",
       "      <th></th>\n",
       "      <th></th>\n",
       "      <th></th>\n",
       "      <th></th>\n",
       "      <th></th>\n",
       "      <th></th>\n",
       "      <th></th>\n",
       "      <th></th>\n",
       "      <th></th>\n",
       "      <th></th>\n",
       "      <th></th>\n",
       "    </tr>\n",
       "  </thead>\n",
       "  <tbody>\n",
       "    <tr>\n",
       "      <th>1</th>\n",
       "      <td>123</td>\n",
       "      <td>123</td>\n",
       "      <td>123</td>\n",
       "      <td>123</td>\n",
       "      <td>120</td>\n",
       "      <td>123</td>\n",
       "      <td>123</td>\n",
       "      <td>123</td>\n",
       "      <td>123</td>\n",
       "      <td>123</td>\n",
       "      <td>123</td>\n",
       "      <td>122</td>\n",
       "      <td>123</td>\n",
       "    </tr>\n",
       "    <tr>\n",
       "      <th>2</th>\n",
       "      <td>96</td>\n",
       "      <td>96</td>\n",
       "      <td>96</td>\n",
       "      <td>96</td>\n",
       "      <td>93</td>\n",
       "      <td>96</td>\n",
       "      <td>96</td>\n",
       "      <td>96</td>\n",
       "      <td>96</td>\n",
       "      <td>96</td>\n",
       "      <td>96</td>\n",
       "      <td>93</td>\n",
       "      <td>96</td>\n",
       "    </tr>\n",
       "    <tr>\n",
       "      <th>3</th>\n",
       "      <td>127</td>\n",
       "      <td>127</td>\n",
       "      <td>127</td>\n",
       "      <td>127</td>\n",
       "      <td>127</td>\n",
       "      <td>127</td>\n",
       "      <td>127</td>\n",
       "      <td>127</td>\n",
       "      <td>127</td>\n",
       "      <td>127</td>\n",
       "      <td>127</td>\n",
       "      <td>122</td>\n",
       "      <td>127</td>\n",
       "    </tr>\n",
       "    <tr>\n",
       "      <th>4</th>\n",
       "      <td>156</td>\n",
       "      <td>156</td>\n",
       "      <td>156</td>\n",
       "      <td>156</td>\n",
       "      <td>151</td>\n",
       "      <td>156</td>\n",
       "      <td>156</td>\n",
       "      <td>156</td>\n",
       "      <td>156</td>\n",
       "      <td>156</td>\n",
       "      <td>156</td>\n",
       "      <td>155</td>\n",
       "      <td>156</td>\n",
       "    </tr>\n",
       "    <tr>\n",
       "      <th>5</th>\n",
       "      <td>42</td>\n",
       "      <td>42</td>\n",
       "      <td>42</td>\n",
       "      <td>42</td>\n",
       "      <td>42</td>\n",
       "      <td>42</td>\n",
       "      <td>42</td>\n",
       "      <td>42</td>\n",
       "      <td>42</td>\n",
       "      <td>42</td>\n",
       "      <td>42</td>\n",
       "      <td>42</td>\n",
       "      <td>42</td>\n",
       "    </tr>\n",
       "    <tr>\n",
       "      <th>6</th>\n",
       "      <td>67</td>\n",
       "      <td>67</td>\n",
       "      <td>67</td>\n",
       "      <td>67</td>\n",
       "      <td>65</td>\n",
       "      <td>67</td>\n",
       "      <td>67</td>\n",
       "      <td>67</td>\n",
       "      <td>67</td>\n",
       "      <td>67</td>\n",
       "      <td>67</td>\n",
       "      <td>64</td>\n",
       "      <td>67</td>\n",
       "    </tr>\n",
       "    <tr>\n",
       "      <th>7</th>\n",
       "      <td>72</td>\n",
       "      <td>72</td>\n",
       "      <td>72</td>\n",
       "      <td>72</td>\n",
       "      <td>69</td>\n",
       "      <td>72</td>\n",
       "      <td>72</td>\n",
       "      <td>72</td>\n",
       "      <td>72</td>\n",
       "      <td>72</td>\n",
       "      <td>72</td>\n",
       "      <td>70</td>\n",
       "      <td>72</td>\n",
       "    </tr>\n",
       "    <tr>\n",
       "      <th>8</th>\n",
       "      <td>104</td>\n",
       "      <td>104</td>\n",
       "      <td>104</td>\n",
       "      <td>104</td>\n",
       "      <td>100</td>\n",
       "      <td>104</td>\n",
       "      <td>104</td>\n",
       "      <td>104</td>\n",
       "      <td>104</td>\n",
       "      <td>104</td>\n",
       "      <td>104</td>\n",
       "      <td>103</td>\n",
       "      <td>104</td>\n",
       "    </tr>\n",
       "    <tr>\n",
       "      <th>9</th>\n",
       "      <td>43</td>\n",
       "      <td>43</td>\n",
       "      <td>43</td>\n",
       "      <td>43</td>\n",
       "      <td>42</td>\n",
       "      <td>43</td>\n",
       "      <td>43</td>\n",
       "      <td>43</td>\n",
       "      <td>43</td>\n",
       "      <td>43</td>\n",
       "      <td>43</td>\n",
       "      <td>40</td>\n",
       "      <td>43</td>\n",
       "    </tr>\n",
       "  </tbody>\n",
       "</table>\n",
       "</div>"
      ],
      "text/plain": [
       "             Id  CustomerId  OrderDate  RequiredDate  ShippedDate  ShipVia  \\\n",
       "EmployeeId                                                                   \n",
       "1           123         123        123           123          120      123   \n",
       "2            96          96         96            96           93       96   \n",
       "3           127         127        127           127          127      127   \n",
       "4           156         156        156           156          151      156   \n",
       "5            42          42         42            42           42       42   \n",
       "6            67          67         67            67           65       67   \n",
       "7            72          72         72            72           69       72   \n",
       "8           104         104        104           104          100      104   \n",
       "9            43          43         43            43           42       43   \n",
       "\n",
       "            Freight  ShipName  ShipAddress  ShipCity  ShipRegion  \\\n",
       "EmployeeId                                                         \n",
       "1               123       123          123       123         123   \n",
       "2                96        96           96        96          96   \n",
       "3               127       127          127       127         127   \n",
       "4               156       156          156       156         156   \n",
       "5                42        42           42        42          42   \n",
       "6                67        67           67        67          67   \n",
       "7                72        72           72        72          72   \n",
       "8               104       104          104       104         104   \n",
       "9                43        43           43        43          43   \n",
       "\n",
       "            ShipPostalCode  ShipCountry  \n",
       "EmployeeId                               \n",
       "1                      122          123  \n",
       "2                       93           96  \n",
       "3                      122          127  \n",
       "4                      155          156  \n",
       "5                       42           42  \n",
       "6                       64           67  \n",
       "7                       70           72  \n",
       "8                      103          104  \n",
       "9                       40           43  "
      ]
     },
     "execution_count": 9,
     "metadata": {},
     "output_type": "execute_result"
    }
   ],
   "source": [
    "df['Order'].groupby('EmployeeId').count()# number of orders for each employee"
   ]
  },
  {
   "cell_type": "code",
   "execution_count": 10,
   "metadata": {},
   "outputs": [
    {
     "name": "stdout",
     "output_type": "stream",
     "text": [
      "2019-01-31 22:13:47,327 INFO sqlalchemy.engine.base.Engine SELECT e.Id employee_id, e.TitleOfCourtesy sex, e.Region region, \n",
      "                            o.Id order_id,\n",
      "                            od.UnitPrice unit_price, od.quantity quantity, od. discount discount\n",
      "                            FROM OrderDetail od \n",
      "                            JOIN [Order] o ON od.OrderId = o.Id\n",
      "                            JOIN Employee e ON o.EmployeeId = e.Id\n",
      "                            ;\n",
      "2019-01-31 22:13:47,329 INFO sqlalchemy.engine.base.Engine ()\n"
     ]
    },
    {
     "data": {
      "text/html": [
       "<div>\n",
       "<style scoped>\n",
       "    .dataframe tbody tr th:only-of-type {\n",
       "        vertical-align: middle;\n",
       "    }\n",
       "\n",
       "    .dataframe tbody tr th {\n",
       "        vertical-align: top;\n",
       "    }\n",
       "\n",
       "    .dataframe thead th {\n",
       "        text-align: right;\n",
       "    }\n",
       "</style>\n",
       "<table border=\"1\" class=\"dataframe\">\n",
       "  <thead>\n",
       "    <tr style=\"text-align: right;\">\n",
       "      <th></th>\n",
       "      <th>region</th>\n",
       "      <th>sex</th>\n",
       "      <th>employee_id</th>\n",
       "      <th>order_id</th>\n",
       "      <th>unit_price</th>\n",
       "      <th>quantity</th>\n",
       "      <th>discount</th>\n",
       "      <th>Total</th>\n",
       "    </tr>\n",
       "  </thead>\n",
       "  <tbody>\n",
       "    <tr>\n",
       "      <th>0</th>\n",
       "      <td>British Isles</td>\n",
       "      <td>F</td>\n",
       "      <td>9</td>\n",
       "      <td>10255</td>\n",
       "      <td>88.3</td>\n",
       "      <td>110</td>\n",
       "      <td>0.00</td>\n",
       "      <td>2490.500</td>\n",
       "    </tr>\n",
       "    <tr>\n",
       "      <th>1</th>\n",
       "      <td>British Isles</td>\n",
       "      <td>F</td>\n",
       "      <td>9</td>\n",
       "      <td>10263</td>\n",
       "      <td>46.2</td>\n",
       "      <td>184</td>\n",
       "      <td>0.75</td>\n",
       "      <td>1873.800</td>\n",
       "    </tr>\n",
       "    <tr>\n",
       "      <th>2</th>\n",
       "      <td>British Isles</td>\n",
       "      <td>F</td>\n",
       "      <td>9</td>\n",
       "      <td>10324</td>\n",
       "      <td>117.0</td>\n",
       "      <td>241</td>\n",
       "      <td>0.60</td>\n",
       "      <td>5275.715</td>\n",
       "    </tr>\n",
       "    <tr>\n",
       "      <th>3</th>\n",
       "      <td>British Isles</td>\n",
       "      <td>F</td>\n",
       "      <td>9</td>\n",
       "      <td>10331</td>\n",
       "      <td>5.9</td>\n",
       "      <td>15</td>\n",
       "      <td>0.00</td>\n",
       "      <td>88.500</td>\n",
       "    </tr>\n",
       "    <tr>\n",
       "      <th>4</th>\n",
       "      <td>British Isles</td>\n",
       "      <td>F</td>\n",
       "      <td>9</td>\n",
       "      <td>10386</td>\n",
       "      <td>14.8</td>\n",
       "      <td>25</td>\n",
       "      <td>0.00</td>\n",
       "      <td>166.000</td>\n",
       "    </tr>\n",
       "  </tbody>\n",
       "</table>\n",
       "</div>"
      ],
      "text/plain": [
       "          region sex  employee_id  order_id  unit_price  quantity  discount  \\\n",
       "0  British Isles   F            9     10255        88.3       110      0.00   \n",
       "1  British Isles   F            9     10263        46.2       184      0.75   \n",
       "2  British Isles   F            9     10324       117.0       241      0.60   \n",
       "3  British Isles   F            9     10331         5.9        15      0.00   \n",
       "4  British Isles   F            9     10386        14.8        25      0.00   \n",
       "\n",
       "      Total  \n",
       "0  2490.500  \n",
       "1  1873.800  \n",
       "2  5275.715  \n",
       "3    88.500  \n",
       "4   166.000  "
      ]
     },
     "execution_count": 10,
     "metadata": {},
     "output_type": "execute_result"
    }
   ],
   "source": [
    "h2 = pd.read_sql_query('''SELECT e.Id employee_id, e.TitleOfCourtesy sex, e.Region region, \n",
    "                            o.Id order_id,\n",
    "                            od.UnitPrice unit_price, od.quantity quantity, od. discount discount\n",
    "                            FROM OrderDetail od \n",
    "                            JOIN [Order] o ON od.OrderId = o.Id\n",
    "                            JOIN Employee e ON o.EmployeeId = e.Id\n",
    "                            ;''', con)\n",
    "h2.replace({'Ms.':'F','Mrs.':'F','Mr.':'M','Dr.':'M'},inplace=True)\n",
    "h2['Total'] = h2['quantity'] * (h2['unit_price']-(h2['unit_price']*h2['discount']))\n",
    "h2 = h2.groupby(['region','sex','employee_id','order_id'],as_index=False).sum()\n",
    "h2.head()"
   ]
  },
  {
   "cell_type": "code",
   "execution_count": 11,
   "metadata": {},
   "outputs": [
    {
     "data": {
      "text/plain": [
       "<matplotlib.legend.Legend at 0x1a1aebf400>"
      ]
     },
     "execution_count": 11,
     "metadata": {},
     "output_type": "execute_result"
    },
    {
     "data": {
      "image/png": "[encoded data removed]",
      "text/plain": [
       "<Figure size 576x576 with 1 Axes>"
      ]
     },
     "metadata": {},
     "output_type": "display_data"
    }
   ],
   "source": [
    "sns.set(style=\"whitegrid\", palette=\"pastel\", color_codes=True)\n",
    "\n",
    "f, ax = plt.subplots(figsize=(8, 8))\n",
    "\n",
    "# Draw a nested violinplot and split the violins for easier comparison\n",
    "sns.violinplot(x=\"region\", y=\"Total\", hue=\"sex\", data=h2, cut=4, split=True, linewidth=2.5,\n",
    "               inner=\"quart\", palette={\"M\": \"b\", \"F\": \"pink\"})\n",
    "sns.despine(left=True)\n",
    "\n",
    "f.suptitle('Sales by Region and Gender', fontsize=18, fontweight='bold')\n",
    "ax.set_xlabel(\"Sales\",size = 16,alpha=0.7)\n",
    "ax.set_ylabel(\"Region\",size = 16,alpha=0.7)\n",
    "plt.legend(loc='upper left')"
   ]
  },
  {
   "cell_type": "code",
   "execution_count": 12,
   "metadata": {},
   "outputs": [
    {
     "name": "stdout",
     "output_type": "stream",
     "text": [
      "Statistics for British Isles:\n",
      "Sample Size:  224\n",
      "Mean:  1538.311220982143\n",
      "Variance:  3564683.0850158446\n",
      "\n",
      "\n",
      "Statistics for any discount:\n",
      "Sample Size:  606\n",
      "Mean:  1520.150702970298\n",
      "Variance:  3339835.1899790205\n"
     ]
    },
    {
     "data": {
      "text/plain": [
       "LeveneResult(statistic=0.22981033874756163, pvalue=0.6317910824369707)"
      ]
     },
     "execution_count": 12,
     "metadata": {},
     "output_type": "execute_result"
    }
   ],
   "source": [
    "british_isles_sales = h2['Total'].loc[h2['region'] == 'British Isles']\n",
    "north_america_sales = h2['Total'].loc[h2['region'] == 'North America']\n",
    "\n",
    "print('Statistics for British Isles:')\n",
    "print('Sample Size: ',len(british_isles_sales))\n",
    "print('Mean: ',np.mean(british_isles_sales))\n",
    "print('Variance: ',np.var(british_isles_sales))\n",
    "print('\\n')\n",
    "print('Statistics for any discount:')\n",
    "print('Sample Size: ',len(north_america_sales))\n",
    "print('Mean: ',np.mean(north_america_sales))\n",
    "print('Variance: ',np.var(north_america_sales))\n",
    "\n",
    "# Levene Test for testing homogeneity of variances\n",
    "from scipy import stats\n",
    "stats.levene(british_isles_sales, north_america_sales)"
   ]
  },
  {
   "cell_type": "code",
   "execution_count": 13,
   "metadata": {},
   "outputs": [
    {
     "name": "stdout",
     "output_type": "stream",
     "text": [
      "Statistics for Female:\n",
      "Sample Size:  553\n",
      "Mean:  1504.4875904159142\n",
      "Variance:  3055407.1350295474\n",
      "\n",
      "\n",
      "Statistics for Male:\n",
      "Sample Size:  277\n",
      "Mean:  1566.1061444043312\n",
      "Variance:  4087155.958365988\n"
     ]
    },
    {
     "data": {
      "text/plain": [
       "LeveneResult(statistic=0.42052384576704555, pvalue=0.5168555686649381)"
      ]
     },
     "execution_count": 13,
     "metadata": {},
     "output_type": "execute_result"
    }
   ],
   "source": [
    "female_sales = h2['Total'].loc[h2['sex'] == 'F']\n",
    "male_sales = h2['Total'].loc[h2['sex'] == 'M']\n",
    "\n",
    "print('Statistics for Female:')\n",
    "print('Sample Size: ',len(female_sales))\n",
    "print('Mean: ',np.mean(female_sales))\n",
    "print('Variance: ',np.var(female_sales))\n",
    "print('\\n')\n",
    "print('Statistics for Male:')\n",
    "print('Sample Size: ',len(male_sales))\n",
    "print('Mean: ',np.mean(male_sales))\n",
    "print('Variance: ',np.var(male_sales))\n",
    "\n",
    "\n",
    "\n",
    "# Levene Test for testing homogeneity of variances\n",
    "from scipy import stats\n",
    "stats.levene(female_sales,male_sales)"
   ]
  },
  {
   "cell_type": "markdown",
   "metadata": {},
   "source": [
    "## 3. Test with an Experiment\n",
    "\n",
    "There are a few assumption we need to make in order to be able to compare the means:\n",
    "\n",
    "1. **Data is independent**\n",
    "\n",
    "We can assume the data is independant because we are working with individual products and discounts. \n",
    "\n",
    "2. **Data is collected randomly**\n",
    "\n",
    "We can assume random data.\n",
    "\n",
    "3. **The data is approximately normally distributed**\n",
    "\n",
    "Base on the violin graph about the data seems to be approximately normally distributed. \n",
    "\n",
    "4. **Data sample size and variance are similar**\n",
    "\n",
    "Based on the levene test above we can assume homogeneity of variance."
   ]
  },
  {
   "cell_type": "markdown",
   "metadata": {},
   "source": [
    "### Test 1"
   ]
  },
  {
   "cell_type": "code",
   "execution_count": 62,
   "metadata": {},
   "outputs": [
    {
     "name": "stdout",
     "output_type": "stream",
     "text": [
      "Ttest_indResult(statistic=0.1257920376990191, pvalue=0.8999270811672749)\n",
      "Cohen's d:  0.009836113809944095\n"
     ]
    }
   ],
   "source": [
    "print(stats.ttest_ind(british_isles_sales,north_america_sales)) #T-test between regions\n",
    "print(\"Cohen's d: \",Cohen_d(british_isles_sales,north_america_sales)) #regional Cohen's d"
   ]
  },
  {
   "cell_type": "markdown",
   "metadata": {},
   "source": [
    "### Test 2"
   ]
  },
  {
   "cell_type": "code",
   "execution_count": 63,
   "metadata": {},
   "outputs": [
    {
     "name": "stdout",
     "output_type": "stream",
     "text": [
      "Ttest_indResult(statistic=0.45344886460688966, pvalue=0.6503443688380031)\n",
      "Cohen's d:  -0.03337630667227915\n"
     ]
    }
   ],
   "source": [
    "print(stats.ttest_ind(male_sales,female_sales)) #t-Test between sexes\n",
    "print(\"Cohen's d: \",Cohen_d(female_sales,male_sales)) #sex Cohen's d"
   ]
  },
  {
   "cell_type": "markdown",
   "metadata": {},
   "source": [
    "### Test 3"
   ]
  },
  {
   "cell_type": "code",
   "execution_count": 22,
   "metadata": {
    "scrolled": false
   },
   "outputs": [
    {
     "name": "stdout",
     "output_type": "stream",
     "text": [
      " Multiple Comparison of Means - Tukey HSD,FWER=0.05\n",
      "===================================================\n",
      "group1 group2  meandiff   lower      upper   reject\n",
      "---------------------------------------------------\n",
      "  1      2     172.9178  -607.717   953.5527 False \n",
      "  1      3     35.1011  -690.0519   760.2541 False \n",
      "  1      4     -68.9604 -760.1565   622.2357 False \n",
      "  1      5      76.061  -948.3608  1100.4829 False \n",
      "  1      6    -458.6694 -1329.0334  411.6946 False \n",
      "  1      7     168.2639  -682.311  1018.8388 False \n",
      "  1      8    -342.0209 -1105.6065  421.5648 False \n",
      "  1      9     236.0116 -779.4917  1251.5148 False \n",
      "  2      3    -137.8168  -913.044   637.4105 False \n",
      "  2      4    -241.8782 -985.4389   501.6824 False \n",
      "  2      5     -96.8568 -1157.3145  963.6009 False \n",
      "  2      6    -631.5872 -1544.0914  280.9169 False \n",
      "  2      7     -4.6539  -898.3026   888.9948 False \n",
      "  2      8    -514.9387 -1326.2299  296.3525 False \n",
      "  2      9     63.0937  -988.7509  1114.9384 False \n",
      "  3      4    -104.0615 -789.1444   581.0214 False \n",
      "  3      5      40.96   -979.3471  1061.2671 False \n",
      "  3      6    -493.7705 -1359.2876  371.7466 False \n",
      "  3      7     133.1629 -712.4518   978.7775 False \n",
      "  3      8    -377.1219 -1135.1783  380.9345 False \n",
      "  3      9     200.9105 -810.4417  1212.2627 False \n",
      "  4      5     145.0214 -851.4382  1141.4811 False \n",
      "  4      6     -389.709 -1226.9814  447.5634 False \n",
      "  4      7     237.2243 -579.4576  1053.9062 False \n",
      "  4      8    -273.0604 -998.7014   452.5805 False \n",
      "  4      9     304.972  -682.3165  1292.2605 False \n",
      "  5      6    -534.7305 -1662.8763  593.4154 False \n",
      "  5      7     92.2029  -1020.747  1205.1527 False \n",
      "  5      8    -418.0819 -1466.0527  629.8889 False \n",
      "  5      9     159.9505 -1083.6035 1403.5045 False \n",
      "  6      7     626.9333 -346.0778  1599.9445 False \n",
      "  6      8     116.6486 -781.3136  1014.6107 False \n",
      "  6      9     694.681  -425.3725  1814.7345 False \n",
      "  7      8    -510.2848 -1389.0796   368.51  False \n",
      "  7      9     67.7476  -1036.9985 1172.4938 False \n",
      "  8      9     578.0324 -461.2219  1617.2867 False \n",
      "---------------------------------------------------\n",
      "[1 2 3 4 5 6 7 8 9]\n"
     ]
    }
   ],
   "source": [
    "mc2 = MultiComparison(h2['Total'], h2['employee_id']) #tukey test between employees\n",
    "result2 = mc2.tukeyhsd()\n",
    " \n",
    "print(result2)\n",
    "print(mc2.groupsunique)"
   ]
  },
  {
   "cell_type": "markdown",
   "metadata": {},
   "source": [
    "## 4. Analize Data and Draw conclusions\n",
    "\n",
    "**Both regions and all sales members performing equally well**\n",
    "\n",
    "- The t-test comparing the mean sales of the US based sales team (1520.15) vs. the UK based sales team (1538.31) was insignificant. $t=0.1257,p=0.899$ This means there is no difference in the mean sales by gender.\n",
    "\n",
    "- The t-test comparing the mean sales of males (1566.10) vs. females (1504.48) was insignificant. $t=0.453,p=0.65$ This means there is no difference in the mean sales by gender.\n",
    "\n",
    "- The tukey test shows no significance in sales amongst the employees either which would indicate that they are all dooing equally well. \n",
    "\n",
    "Based on this analysis, I would suggest that you continue to support everyone equally and give them all a high five!"
   ]
  },
  {
   "cell_type": "markdown",
   "metadata": {},
   "source": [
    "---\n",
    "## Hypothesis 3"
   ]
  },
  {
   "cell_type": "markdown",
   "metadata": {},
   "source": [
    "## 1. Ask a Question\n",
    "\n",
    "The first question that I am trying to answer is the following:\n",
    "\n",
    ">*Is there a difference in the sales categories by region? \n",
    "\n",
    "or\n",
    "\n",
    ">*Is there a significant difference in the mean products sold per category? Does this change by region?\n",
    "\n",
    "### Null Hypothesis:\n",
    "**$H0: \\mu_0  =  \\mu_A$**\n",
    "\n",
    "### Alternative Hypothesis:\n",
    "**$HA: \\mu_0  !=  \\mu_A$**\n",
    "\n",
    "I will be using tiukey tests to look at the difference between regions across categories and between categories themselves. The significance value I will use is a value of p=0.05. "
   ]
  },
  {
   "cell_type": "markdown",
   "metadata": {},
   "source": [
    "## 2. Do Background Research"
   ]
  },
  {
   "cell_type": "code",
   "execution_count": 23,
   "metadata": {
    "scrolled": true
   },
   "outputs": [
    {
     "data": {
      "text/html": [
       "<div>\n",
       "<style scoped>\n",
       "    .dataframe tbody tr th:only-of-type {\n",
       "        vertical-align: middle;\n",
       "    }\n",
       "\n",
       "    .dataframe tbody tr th {\n",
       "        vertical-align: top;\n",
       "    }\n",
       "\n",
       "    .dataframe thead th {\n",
       "        text-align: right;\n",
       "    }\n",
       "</style>\n",
       "<table border=\"1\" class=\"dataframe\">\n",
       "  <thead>\n",
       "    <tr style=\"text-align: right;\">\n",
       "      <th></th>\n",
       "      <th>Id</th>\n",
       "      <th>CategoryName</th>\n",
       "      <th>Description</th>\n",
       "    </tr>\n",
       "  </thead>\n",
       "  <tbody>\n",
       "    <tr>\n",
       "      <th>0</th>\n",
       "      <td>1</td>\n",
       "      <td>Beverages</td>\n",
       "      <td>Soft drinks, coffees, teas, beers, and ales</td>\n",
       "    </tr>\n",
       "    <tr>\n",
       "      <th>1</th>\n",
       "      <td>2</td>\n",
       "      <td>Condiments</td>\n",
       "      <td>Sweet and savory sauces, relishes, spreads, an...</td>\n",
       "    </tr>\n",
       "    <tr>\n",
       "      <th>2</th>\n",
       "      <td>3</td>\n",
       "      <td>Confections</td>\n",
       "      <td>Desserts, candies, and sweet breads</td>\n",
       "    </tr>\n",
       "    <tr>\n",
       "      <th>3</th>\n",
       "      <td>4</td>\n",
       "      <td>Dairy Products</td>\n",
       "      <td>Cheeses</td>\n",
       "    </tr>\n",
       "    <tr>\n",
       "      <th>4</th>\n",
       "      <td>5</td>\n",
       "      <td>Grains/Cereals</td>\n",
       "      <td>Breads, crackers, pasta, and cereal</td>\n",
       "    </tr>\n",
       "    <tr>\n",
       "      <th>5</th>\n",
       "      <td>6</td>\n",
       "      <td>Meat/Poultry</td>\n",
       "      <td>Prepared meats</td>\n",
       "    </tr>\n",
       "    <tr>\n",
       "      <th>6</th>\n",
       "      <td>7</td>\n",
       "      <td>Produce</td>\n",
       "      <td>Dried fruit and bean curd</td>\n",
       "    </tr>\n",
       "    <tr>\n",
       "      <th>7</th>\n",
       "      <td>8</td>\n",
       "      <td>Seafood</td>\n",
       "      <td>Seaweed and fish</td>\n",
       "    </tr>\n",
       "  </tbody>\n",
       "</table>\n",
       "</div>"
      ],
      "text/plain": [
       "   Id    CategoryName                                        Description\n",
       "0   1       Beverages        Soft drinks, coffees, teas, beers, and ales\n",
       "1   2      Condiments  Sweet and savory sauces, relishes, spreads, an...\n",
       "2   3     Confections                Desserts, candies, and sweet breads\n",
       "3   4  Dairy Products                                            Cheeses\n",
       "4   5  Grains/Cereals                Breads, crackers, pasta, and cereal\n",
       "5   6    Meat/Poultry                                     Prepared meats\n",
       "6   7         Produce                          Dried fruit and bean curd\n",
       "7   8         Seafood                                   Seaweed and fish"
      ]
     },
     "execution_count": 23,
     "metadata": {},
     "output_type": "execute_result"
    }
   ],
   "source": [
    "df['Category']"
   ]
  },
  {
   "cell_type": "code",
   "execution_count": 24,
   "metadata": {},
   "outputs": [
    {
     "data": {
      "text/html": [
       "<div>\n",
       "<style scoped>\n",
       "    .dataframe tbody tr th:only-of-type {\n",
       "        vertical-align: middle;\n",
       "    }\n",
       "\n",
       "    .dataframe tbody tr th {\n",
       "        vertical-align: top;\n",
       "    }\n",
       "\n",
       "    .dataframe thead th {\n",
       "        text-align: right;\n",
       "    }\n",
       "</style>\n",
       "<table border=\"1\" class=\"dataframe\">\n",
       "  <thead>\n",
       "    <tr style=\"text-align: right;\">\n",
       "      <th></th>\n",
       "      <th>Id</th>\n",
       "      <th>RegionDescription</th>\n",
       "    </tr>\n",
       "  </thead>\n",
       "  <tbody>\n",
       "    <tr>\n",
       "      <th>0</th>\n",
       "      <td>1</td>\n",
       "      <td>Eastern</td>\n",
       "    </tr>\n",
       "    <tr>\n",
       "      <th>1</th>\n",
       "      <td>2</td>\n",
       "      <td>Western</td>\n",
       "    </tr>\n",
       "    <tr>\n",
       "      <th>2</th>\n",
       "      <td>3</td>\n",
       "      <td>Northern</td>\n",
       "    </tr>\n",
       "    <tr>\n",
       "      <th>3</th>\n",
       "      <td>4</td>\n",
       "      <td>Southern</td>\n",
       "    </tr>\n",
       "  </tbody>\n",
       "</table>\n",
       "</div>"
      ],
      "text/plain": [
       "   Id RegionDescription\n",
       "0   1           Eastern\n",
       "1   2           Western\n",
       "2   3          Northern\n",
       "3   4          Southern"
      ]
     },
     "execution_count": 24,
     "metadata": {},
     "output_type": "execute_result"
    }
   ],
   "source": [
    "df['Region']"
   ]
  },
  {
   "cell_type": "code",
   "execution_count": 19,
   "metadata": {},
   "outputs": [
    {
     "name": "stdout",
     "output_type": "stream",
     "text": [
      "2019-01-31 22:19:23,774 INFO sqlalchemy.engine.base.Engine SELECT c.categoryname categories, p.id as product, od.quantity quantity,\n",
      "                            r.regiondescription regions, od. unitprice unit_price, od.Discount discount\n",
      "                            FROM product p \n",
      "                            JOIN category c ON p.categoryId = c.Id\n",
      "                            JOIN orderdetail od ON p.Id = od.productId\n",
      "                            JOIN [order] o ON od.OrderId = o.Id\n",
      "                            JOIN employee e ON o.EmployeeId = e.Id\n",
      "                            JOIN employeeterritory et ON e.Id = et.employeeid\n",
      "                            JOIN territory t ON et.territoryId = t.id\n",
      "                            JOIN region r ON t.regionId = r.id\n",
      "                            ;\n",
      "2019-01-31 22:19:23,777 INFO sqlalchemy.engine.base.Engine ()\n"
     ]
    },
    {
     "data": {
      "text/html": [
       "<div>\n",
       "<style scoped>\n",
       "    .dataframe tbody tr th:only-of-type {\n",
       "        vertical-align: middle;\n",
       "    }\n",
       "\n",
       "    .dataframe tbody tr th {\n",
       "        vertical-align: top;\n",
       "    }\n",
       "\n",
       "    .dataframe thead th {\n",
       "        text-align: right;\n",
       "    }\n",
       "</style>\n",
       "<table border=\"1\" class=\"dataframe\">\n",
       "  <thead>\n",
       "    <tr style=\"text-align: right;\">\n",
       "      <th></th>\n",
       "      <th>categories</th>\n",
       "      <th>product</th>\n",
       "      <th>quantity</th>\n",
       "      <th>regions</th>\n",
       "      <th>unit_price</th>\n",
       "      <th>discount</th>\n",
       "    </tr>\n",
       "  </thead>\n",
       "  <tbody>\n",
       "    <tr>\n",
       "      <th>0</th>\n",
       "      <td>Dairy Products</td>\n",
       "      <td>11</td>\n",
       "      <td>12</td>\n",
       "      <td>Eastern</td>\n",
       "      <td>14.0</td>\n",
       "      <td>0.0</td>\n",
       "    </tr>\n",
       "    <tr>\n",
       "      <th>1</th>\n",
       "      <td>Dairy Products</td>\n",
       "      <td>11</td>\n",
       "      <td>12</td>\n",
       "      <td>Eastern</td>\n",
       "      <td>14.0</td>\n",
       "      <td>0.0</td>\n",
       "    </tr>\n",
       "    <tr>\n",
       "      <th>2</th>\n",
       "      <td>Dairy Products</td>\n",
       "      <td>11</td>\n",
       "      <td>12</td>\n",
       "      <td>Eastern</td>\n",
       "      <td>14.0</td>\n",
       "      <td>0.0</td>\n",
       "    </tr>\n",
       "    <tr>\n",
       "      <th>3</th>\n",
       "      <td>Dairy Products</td>\n",
       "      <td>11</td>\n",
       "      <td>12</td>\n",
       "      <td>Eastern</td>\n",
       "      <td>14.0</td>\n",
       "      <td>0.0</td>\n",
       "    </tr>\n",
       "    <tr>\n",
       "      <th>4</th>\n",
       "      <td>Dairy Products</td>\n",
       "      <td>11</td>\n",
       "      <td>12</td>\n",
       "      <td>Eastern</td>\n",
       "      <td>14.0</td>\n",
       "      <td>0.0</td>\n",
       "    </tr>\n",
       "  </tbody>\n",
       "</table>\n",
       "</div>"
      ],
      "text/plain": [
       "       categories  product  quantity  regions  unit_price  discount\n",
       "0  Dairy Products       11        12  Eastern        14.0       0.0\n",
       "1  Dairy Products       11        12  Eastern        14.0       0.0\n",
       "2  Dairy Products       11        12  Eastern        14.0       0.0\n",
       "3  Dairy Products       11        12  Eastern        14.0       0.0\n",
       "4  Dairy Products       11        12  Eastern        14.0       0.0"
      ]
     },
     "execution_count": 19,
     "metadata": {},
     "output_type": "execute_result"
    }
   ],
   "source": [
    "h3 = pd.read_sql_query('''SELECT c.categoryname categories, p.id as product, od.quantity quantity,\n",
    "                            r.regiondescription regions, od. unitprice unit_price, od.Discount discount\n",
    "                            FROM product p \n",
    "                            JOIN category c ON p.categoryId = c.Id\n",
    "                            JOIN orderdetail od ON p.Id = od.productId\n",
    "                            JOIN [order] o ON od.OrderId = o.Id\n",
    "                            JOIN employee e ON o.EmployeeId = e.Id\n",
    "                            JOIN employeeterritory et ON e.Id = et.employeeid\n",
    "                            JOIN territory t ON et.territoryId = t.id\n",
    "                            JOIN region r ON t.regionId = r.id\n",
    "                            ;''', con)\n",
    "h3.head()"
   ]
  },
  {
   "cell_type": "code",
   "execution_count": 20,
   "metadata": {},
   "outputs": [
    {
     "data": {
      "text/html": [
       "<div>\n",
       "<style scoped>\n",
       "    .dataframe tbody tr th:only-of-type {\n",
       "        vertical-align: middle;\n",
       "    }\n",
       "\n",
       "    .dataframe tbody tr th {\n",
       "        vertical-align: top;\n",
       "    }\n",
       "\n",
       "    .dataframe thead th {\n",
       "        text-align: right;\n",
       "    }\n",
       "</style>\n",
       "<table border=\"1\" class=\"dataframe\">\n",
       "  <thead>\n",
       "    <tr style=\"text-align: right;\">\n",
       "      <th></th>\n",
       "      <th>categories</th>\n",
       "      <th>regions</th>\n",
       "      <th>product</th>\n",
       "      <th>quantity</th>\n",
       "      <th>unit_price</th>\n",
       "      <th>discount</th>\n",
       "      <th>Total</th>\n",
       "    </tr>\n",
       "  </thead>\n",
       "  <tbody>\n",
       "    <tr>\n",
       "      <th>0</th>\n",
       "      <td>Beverages</td>\n",
       "      <td>Eastern</td>\n",
       "      <td>1</td>\n",
       "      <td>1916</td>\n",
       "      <td>1386.0</td>\n",
       "      <td>4.50</td>\n",
       "      <td>30479.400</td>\n",
       "    </tr>\n",
       "    <tr>\n",
       "      <th>1</th>\n",
       "      <td>Beverages</td>\n",
       "      <td>Eastern</td>\n",
       "      <td>2</td>\n",
       "      <td>2226</td>\n",
       "      <td>1710.0</td>\n",
       "      <td>12.05</td>\n",
       "      <td>33978.270</td>\n",
       "    </tr>\n",
       "    <tr>\n",
       "      <th>2</th>\n",
       "      <td>Beverages</td>\n",
       "      <td>Eastern</td>\n",
       "      <td>24</td>\n",
       "      <td>1882</td>\n",
       "      <td>457.2</td>\n",
       "      <td>7.75</td>\n",
       "      <td>7412.355</td>\n",
       "    </tr>\n",
       "    <tr>\n",
       "      <th>3</th>\n",
       "      <td>Beverages</td>\n",
       "      <td>Eastern</td>\n",
       "      <td>34</td>\n",
       "      <td>644</td>\n",
       "      <td>350.0</td>\n",
       "      <td>1.40</td>\n",
       "      <td>7781.200</td>\n",
       "    </tr>\n",
       "    <tr>\n",
       "      <th>4</th>\n",
       "      <td>Beverages</td>\n",
       "      <td>Eastern</td>\n",
       "      <td>35</td>\n",
       "      <td>1565</td>\n",
       "      <td>1206.0</td>\n",
       "      <td>3.25</td>\n",
       "      <td>25296.300</td>\n",
       "    </tr>\n",
       "  </tbody>\n",
       "</table>\n",
       "</div>"
      ],
      "text/plain": [
       "  categories  regions  product  quantity  unit_price  discount      Total\n",
       "0  Beverages  Eastern        1      1916      1386.0      4.50  30479.400\n",
       "1  Beverages  Eastern        2      2226      1710.0     12.05  33978.270\n",
       "2  Beverages  Eastern       24      1882       457.2      7.75   7412.355\n",
       "3  Beverages  Eastern       34       644       350.0      1.40   7781.200\n",
       "4  Beverages  Eastern       35      1565      1206.0      3.25  25296.300"
      ]
     },
     "execution_count": 20,
     "metadata": {},
     "output_type": "execute_result"
    }
   ],
   "source": [
    "h3['Total'] = h3['quantity'] * (h3['unit_price']-(h3['unit_price']*h3['discount']))\n",
    "h3 = h3.groupby(['categories','regions','product'],as_index=False,).sum()\n",
    "h3.head()\n"
   ]
  },
  {
   "cell_type": "code",
   "execution_count": 21,
   "metadata": {},
   "outputs": [
    {
     "data": {
      "text/plain": [
       "Text(0,0.5,'Number of Products Sold')"
      ]
     },
     "execution_count": 21,
     "metadata": {},
     "output_type": "execute_result"
    },
    {
     "data": {
      "image/png": "[encoded data removed]",
      "text/plain": [
       "<Figure size 1080x720 with 1 Axes>"
      ]
     },
     "metadata": {},
     "output_type": "display_data"
    }
   ],
   "source": [
    "sns.set(style=\"whitegrid\", palette=\"pastel\", color_codes=True)\n",
    "\n",
    "f, ax = plt.subplots(figsize=(15, 10))\n",
    "\n",
    "# Draw a nested violinplot and split the violins for easier comparison\n",
    "sns.boxplot(x=\"regions\", y=\"quantity\", data=h3, linewidth=2.5)\n",
    "sns.despine(left=True)\n",
    "\n",
    "f.suptitle('Number of Products sold by region', fontsize=18, fontweight='bold')\n",
    "ax.set_xlabel(\"Categories\",size = 16,alpha=0.7)\n",
    "ax.set_ylabel(\"Number of Products Sold\",size = 16,alpha=0.7)"
   ]
  },
  {
   "cell_type": "code",
   "execution_count": 137,
   "metadata": {},
   "outputs": [
    {
     "data": {
      "text/plain": [
       "Text(0,0.5,'Income')"
      ]
     },
     "execution_count": 137,
     "metadata": {},
     "output_type": "execute_result"
    },
    {
     "data": {
      "image/png": "[encoded data removed]",
      "text/plain": [
       "<Figure size 1080x720 with 1 Axes>"
      ]
     },
     "metadata": {},
     "output_type": "display_data"
    }
   ],
   "source": [
    "f, ax = plt.subplots(figsize=(15, 10))\n",
    "\n",
    "# Draw a nested violinplot and split the violins for easier comparison\n",
    "sns.boxplot(x=\"regions\", y=\"Total\", data=h3, linewidth=2.5)\n",
    "sns.despine(left=True)\n",
    "\n",
    "f.suptitle('Amount sold by region', fontsize=18, fontweight='bold')\n",
    "ax.set_xlabel(\"Categories\",size = 16,alpha=0.7)\n",
    "ax.set_ylabel(\"Income\",size = 16,alpha=0.7)"
   ]
  },
  {
   "cell_type": "code",
   "execution_count": 138,
   "metadata": {},
   "outputs": [
    {
     "data": {
      "text/html": [
       "<div>\n",
       "<style scoped>\n",
       "    .dataframe tbody tr th:only-of-type {\n",
       "        vertical-align: middle;\n",
       "    }\n",
       "\n",
       "    .dataframe tbody tr th {\n",
       "        vertical-align: top;\n",
       "    }\n",
       "\n",
       "    .dataframe thead th {\n",
       "        text-align: right;\n",
       "    }\n",
       "</style>\n",
       "<table border=\"1\" class=\"dataframe\">\n",
       "  <thead>\n",
       "    <tr style=\"text-align: right;\">\n",
       "      <th></th>\n",
       "      <th>product</th>\n",
       "      <th>quantity</th>\n",
       "      <th>unit_price</th>\n",
       "      <th>discount</th>\n",
       "      <th>Total</th>\n",
       "    </tr>\n",
       "    <tr>\n",
       "      <th>regions</th>\n",
       "      <th></th>\n",
       "      <th></th>\n",
       "      <th></th>\n",
       "      <th></th>\n",
       "      <th></th>\n",
       "    </tr>\n",
       "  </thead>\n",
       "  <tbody>\n",
       "    <tr>\n",
       "      <th>Eastern</th>\n",
       "      <td>39.000000</td>\n",
       "      <td>1411.103896</td>\n",
       "      <td>1540.943247</td>\n",
       "      <td>3.112727</td>\n",
       "      <td>35457.117006</td>\n",
       "    </tr>\n",
       "    <tr>\n",
       "      <th>Northern</th>\n",
       "      <td>39.200000</td>\n",
       "      <td>564.560000</td>\n",
       "      <td>648.245333</td>\n",
       "      <td>1.460000</td>\n",
       "      <td>13981.407673</td>\n",
       "    </tr>\n",
       "    <tr>\n",
       "      <th>Southern</th>\n",
       "      <td>39.905405</td>\n",
       "      <td>424.432432</td>\n",
       "      <td>472.887568</td>\n",
       "      <td>0.862162</td>\n",
       "      <td>10962.856378</td>\n",
       "    </tr>\n",
       "    <tr>\n",
       "      <th>Western</th>\n",
       "      <td>39.600000</td>\n",
       "      <td>855.666667</td>\n",
       "      <td>884.665333</td>\n",
       "      <td>2.336667</td>\n",
       "      <td>21536.639967</td>\n",
       "    </tr>\n",
       "  </tbody>\n",
       "</table>\n",
       "</div>"
      ],
      "text/plain": [
       "            product     quantity   unit_price  discount         Total\n",
       "regions                                                              \n",
       "Eastern   39.000000  1411.103896  1540.943247  3.112727  35457.117006\n",
       "Northern  39.200000   564.560000   648.245333  1.460000  13981.407673\n",
       "Southern  39.905405   424.432432   472.887568  0.862162  10962.856378\n",
       "Western   39.600000   855.666667   884.665333  2.336667  21536.639967"
      ]
     },
     "execution_count": 138,
     "metadata": {},
     "output_type": "execute_result"
    }
   ],
   "source": [
    "h3.groupby('regions').mean()"
   ]
  },
  {
   "cell_type": "markdown",
   "metadata": {},
   "source": [
    "## 3. Test using an Experiment"
   ]
  },
  {
   "cell_type": "markdown",
   "metadata": {},
   "source": [
    "I will use tukey tests to compare the means of the various product categories and regions. I will first compare regions amongst themselves and then categories within regions."
   ]
  },
  {
   "cell_type": "markdown",
   "metadata": {},
   "source": [
    "### Test 1"
   ]
  },
  {
   "cell_type": "code",
   "execution_count": 22,
   "metadata": {},
   "outputs": [
    {
     "name": "stdout",
     "output_type": "stream",
     "text": [
      "   Multiple Comparison of Means - Tukey HSD,FWER=0.05  \n",
      "=======================================================\n",
      " group1   group2   meandiff   lower      upper   reject\n",
      "-------------------------------------------------------\n",
      "Eastern  Northern -846.5439 -1095.5163 -597.5715  True \n",
      "Eastern  Southern -986.6715 -1236.4946 -736.8484  True \n",
      "Eastern  Western  -555.4372 -804.4096  -306.4649  True \n",
      "Northern Southern -140.1276 -391.5778   111.3226 False \n",
      "Northern Western   291.1067  40.5017    541.7117  True \n",
      "Southern Western   431.2342  179.784    682.6844  True \n",
      "-------------------------------------------------------\n",
      "['Eastern' 'Northern' 'Southern' 'Western']\n"
     ]
    }
   ],
   "source": [
    "mc3 = MultiComparison(h3['quantity'], h3['regions']) \n",
    "result3 = mc3.tukeyhsd()\n",
    "\n",
    "print(result3)\n",
    "print(mc3.groupsunique)"
   ]
  },
  {
   "cell_type": "markdown",
   "metadata": {},
   "source": [
    "### Test 2"
   ]
  },
  {
   "cell_type": "code",
   "execution_count": 26,
   "metadata": {
    "scrolled": true
   },
   "outputs": [
    {
     "name": "stdout",
     "output_type": "stream",
     "text": [
      "     Multiple Comparison of Means - Tukey HSD,FWER=0.05     \n",
      "============================================================\n",
      " group1   group2    meandiff     lower       upper    reject\n",
      "------------------------------------------------------------\n",
      "Eastern  Northern -21475.7093 -34907.9546  -8043.4641  True \n",
      "Eastern  Southern -24494.2606 -37972.4038 -11016.1175  True \n",
      "Eastern  Western   -13920.477 -27352.7223  -488.2318   True \n",
      "Northern Southern  -3018.5513 -16584.4777  10547.3751 False \n",
      "Northern Western   7555.2323   -5965.0942  21075.5588 False \n",
      "Southern Western   10573.7836  -2992.1428  24139.7099 False \n",
      "------------------------------------------------------------\n",
      "['Eastern' 'Northern' 'Southern' 'Western']\n"
     ]
    }
   ],
   "source": [
    "mc3 = MultiComparison(h3['Total'], h3['regions']) \n",
    "result3 = mc3.tukeyhsd()\n",
    "\n",
    "print(result3)\n",
    "print(mc3.groupsunique)"
   ]
  },
  {
   "cell_type": "markdown",
   "metadata": {},
   "source": [
    "### Test 3"
   ]
  },
  {
   "cell_type": "code",
   "execution_count": 57,
   "metadata": {},
   "outputs": [
    {
     "name": "stdout",
     "output_type": "stream",
     "text": [
      "         Multiple Comparison of Means - Tukey HSD,FWER=0.05        \n",
      "===================================================================\n",
      "    group1         group2      meandiff   lower      upper   reject\n",
      "-------------------------------------------------------------------\n",
      "  Beverages      Condiments   -367.1458  -807.284   72.9923  False \n",
      "  Beverages     Confections   -215.4558 -641.5931   210.6814 False \n",
      "  Beverages    Dairy Products  191.6042 -259.8699   643.0782 False \n",
      "  Beverages    Grains/Cereals -189.4315 -690.9065   312.0434 False \n",
      "  Beverages     Meat/Poultry   -80.6458 -607.8539   446.5623 False \n",
      "  Beverages       Produce     -250.6958 -811.9517    310.56  False \n",
      "  Beverages       Seafood      -198.449 -631.1963   234.2982 False \n",
      "  Condiments    Confections     151.69  -284.2178   587.5978 False \n",
      "  Condiments   Dairy Products   558.75   98.0424   1019.4576  True \n",
      "  Condiments   Grains/Cereals  177.7143 -332.0894   687.518  False \n",
      "  Condiments    Meat/Poultry    286.5   -248.6365   821.6365 False \n",
      "  Condiments      Produce       116.45  -452.2598   685.1598 False \n",
      "  Condiments      Seafood      168.6968 -273.6751   611.0687 False \n",
      " Confections   Dairy Products   407.06   -40.2909   854.4109 False \n",
      " Confections   Grains/Cereals  26.0243  -471.7419   523.7904 False \n",
      " Confections    Meat/Poultry    134.81  -388.8716   658.4916 False \n",
      " Confections      Produce       -35.24  -593.1846   522.7046 False \n",
      " Confections      Seafood      17.0068  -411.4371   445.4507 False \n",
      "Dairy Products Grains/Cereals -381.0357 -900.6577   138.5863 False \n",
      "Dairy Products  Meat/Poultry   -272.25  -816.7482   272.2482 False \n",
      "Dairy Products    Produce       -442.3  -1019.8275  135.2275 False \n",
      "Dairy Products    Seafood     -390.0532 -843.7051   63.5987  False \n",
      "Grains/Cereals  Meat/Poultry   108.7857 -477.8373   695.4087 False \n",
      "Grains/Cereals    Produce      -61.2643 -678.6672   556.1386 False \n",
      "Grains/Cereals    Seafood      -9.0175   -512.454   494.4191 False \n",
      " Meat/Poultry     Produce      -170.05  -808.5307   468.4307 False \n",
      " Meat/Poultry     Seafood     -117.8032 -646.8775   411.2711 False \n",
      "   Produce        Seafood      52.2468  -510.7625   615.2561 False \n",
      "-------------------------------------------------------------------\n",
      "['Beverages' 'Condiments' 'Confections' 'Dairy Products' 'Grains/Cereals'\n",
      " 'Meat/Poultry' 'Produce' 'Seafood']\n"
     ]
    }
   ],
   "source": [
    "mc3 = MultiComparison(h3['quantity'], h3['categories']) \n",
    "result3 = mc3.tukeyhsd()\n",
    "\n",
    "print(result3)\n",
    "print(mc3.groupsunique)"
   ]
  },
  {
   "cell_type": "markdown",
   "metadata": {},
   "source": [
    "### Test 4"
   ]
  },
  {
   "cell_type": "code",
   "execution_count": 58,
   "metadata": {},
   "outputs": [
    {
     "name": "stdout",
     "output_type": "stream",
     "text": [
      "           Multiple Comparison of Means - Tukey HSD,FWER=0.05          \n",
      "=======================================================================\n",
      "    group1         group2       meandiff     lower      upper    reject\n",
      "-----------------------------------------------------------------------\n",
      "  Beverages      Condiments   -15763.3779 -36534.4963 5007.7405  False \n",
      "  Beverages     Confections   -11826.6499 -31937.0329 8283.7332  False \n",
      "  Beverages    Dairy Products  2938.2501  -18367.8345 24244.3347 False \n",
      "  Beverages    Grains/Cereals -11690.3988 -35356.1386 11975.3411 False \n",
      "  Beverages     Meat/Poultry   9099.5096  -15780.6369 33979.6561 False \n",
      "  Beverages       Produce      -3964.6281 -30451.5667 22522.3105 False \n",
      "  Beverages       Seafood     -14962.3869 -35384.7117  5459.938  False \n",
      "  Condiments    Confections     3936.728  -16634.7507 24508.2068 False \n",
      "  Condiments   Dairy Products  18701.628   -3040.2089 40443.465  False \n",
      "  Condiments   Grains/Cereals  4072.9791   -19985.813 28131.7712 False \n",
      "  Condiments    Meat/Poultry   24862.8875  -391.4175  50117.1926 False \n",
      "  Condiments      Produce      11798.7498 -15039.9564 38637.456  False \n",
      "  Condiments      Seafood       800.991   -20075.5409 21677.5229 False \n",
      " Confections   Dairy Products   14764.9    -6346.6044 35876.4044 False \n",
      " Confections   Grains/Cereals   136.2511  -23354.4624 23626.9646 False \n",
      " Confections    Meat/Poultry   20926.1595  -3787.5628 45639.8818 False \n",
      " Confections      Produce      7862.0217  -18468.6504 34192.6938 False \n",
      " Confections      Seafood      -3135.737  -23354.9786 17083.5045 False \n",
      "Dairy Products Grains/Cereals -14628.6489  -39150.789 9893.4913  False \n",
      "Dairy Products  Meat/Poultry   6161.2595  -19534.8453 31857.3643 False \n",
      "Dairy Products    Produce      -6902.8783 -34157.7132 20351.9567 False \n",
      "Dairy Products    Seafood      -17900.637 -39309.5012 3508.2272  False \n",
      "Grains/Cereals  Meat/Poultry   20789.9084  -6894.163  48473.9798 False \n",
      "Grains/Cereals    Produce      7725.7706  -21410.8735 36862.4148 False \n",
      "Grains/Cereals    Seafood      -3271.9881 -27030.3018 20486.3256 False \n",
      " Meat/Poultry     Produce     -13064.1377 -43195.4915 17067.216  False \n",
      " Meat/Poultry     Seafood     -24061.8965 -49030.1146  906.3216  False \n",
      "   Produce        Seafood     -10997.7588 -37567.4434 15571.9259 False \n",
      "-----------------------------------------------------------------------\n",
      "['Beverages' 'Condiments' 'Confections' 'Dairy Products' 'Grains/Cereals'\n",
      " 'Meat/Poultry' 'Produce' 'Seafood']\n"
     ]
    }
   ],
   "source": [
    "mc3 = MultiComparison(h3['Total'], h3['categories']) \n",
    "result3 = mc3.tukeyhsd()\n",
    "\n",
    "print(result3)\n",
    "print(mc3.groupsunique)"
   ]
  },
  {
   "cell_type": "markdown",
   "metadata": {},
   "source": [
    "## 4. Analize Data and Draw conclusions\n",
    "\n",
    "**The Eastern Region is the strongest, followed by the Western Region in both sales and number of products sold. There is however no leading category.**\n",
    "\n",
    "- The Eastern region sells more product than the other three regions. The Western region also sells more than both the Southern and Northern regions. There is no significant difference between the Southern and Northern regions.\n",
    "\n",
    "- The Eastern region has more in sales than the other three regions but there is no significant difference between the other regions. \n",
    "\n",
    "- There is no outstanding significant categories in terms of either sales or product.\n",
    "\n",
    "Based on this data, I would suggest to continue to support the eastern region most with an emphasis on sales in the western region as they are already selling more product. "
   ]
  },
  {
   "cell_type": "markdown",
   "metadata": {},
   "source": [
    "----\n",
    "# Hypothesis 4"
   ]
  },
  {
   "cell_type": "markdown",
   "metadata": {},
   "source": [
    "## 1. Ask a Question\n",
    "\n",
    "The first question that I am trying to answer is the following:\n",
    "\n",
    ">*Is there a difference in the number of imports and domestic products that customers purchase? Which products are more lucrative?\n",
    "\n",
    "or\n",
    "\n",
    ">*Is there a significant difference in the mean products and sales sold domestically vs imported?\n",
    "\n",
    "### Null Hypothesis:\n",
    "**$H0: \\mu_0  =  \\mu_A$**\n",
    "\n",
    "### Alternative Hypothesis:\n",
    "**$HA: \\mu_0  !=  \\mu_A$**\n",
    "\n",
    "I will run a welch's t-test to test the difference between products sold domestically vs. imported. The significance value I will use is a value of p=0.05. "
   ]
  },
  {
   "cell_type": "markdown",
   "metadata": {},
   "source": [
    "## 2. Do Background Research"
   ]
  },
  {
   "cell_type": "code",
   "execution_count": 29,
   "metadata": {},
   "outputs": [
    {
     "data": {
      "text/html": [
       "<div>\n",
       "<style scoped>\n",
       "    .dataframe tbody tr th:only-of-type {\n",
       "        vertical-align: middle;\n",
       "    }\n",
       "\n",
       "    .dataframe tbody tr th {\n",
       "        vertical-align: top;\n",
       "    }\n",
       "\n",
       "    .dataframe thead th {\n",
       "        text-align: right;\n",
       "    }\n",
       "</style>\n",
       "<table border=\"1\" class=\"dataframe\">\n",
       "  <thead>\n",
       "    <tr style=\"text-align: right;\">\n",
       "      <th></th>\n",
       "      <th>Id</th>\n",
       "      <th>CompanyName</th>\n",
       "      <th>ContactName</th>\n",
       "      <th>ContactTitle</th>\n",
       "      <th>Address</th>\n",
       "      <th>City</th>\n",
       "      <th>Region</th>\n",
       "      <th>PostalCode</th>\n",
       "      <th>Country</th>\n",
       "      <th>Phone</th>\n",
       "      <th>Fax</th>\n",
       "      <th>HomePage</th>\n",
       "    </tr>\n",
       "  </thead>\n",
       "  <tbody>\n",
       "    <tr>\n",
       "      <th>0</th>\n",
       "      <td>1</td>\n",
       "      <td>Exotic Liquids</td>\n",
       "      <td>Charlotte Cooper</td>\n",
       "      <td>Purchasing Manager</td>\n",
       "      <td>49 Gilbert St.</td>\n",
       "      <td>London</td>\n",
       "      <td>British Isles</td>\n",
       "      <td>EC1 4SD</td>\n",
       "      <td>UK</td>\n",
       "      <td>(171) 555-2222</td>\n",
       "      <td>None</td>\n",
       "      <td>None</td>\n",
       "    </tr>\n",
       "    <tr>\n",
       "      <th>1</th>\n",
       "      <td>2</td>\n",
       "      <td>New Orleans Cajun Delights</td>\n",
       "      <td>Shelley Burke</td>\n",
       "      <td>Order Administrator</td>\n",
       "      <td>P.O. Box 78934</td>\n",
       "      <td>New Orleans</td>\n",
       "      <td>North America</td>\n",
       "      <td>70117</td>\n",
       "      <td>USA</td>\n",
       "      <td>(100) 555-4822</td>\n",
       "      <td>None</td>\n",
       "      <td>#CAJUN.HTM#</td>\n",
       "    </tr>\n",
       "    <tr>\n",
       "      <th>2</th>\n",
       "      <td>3</td>\n",
       "      <td>Grandma Kelly's Homestead</td>\n",
       "      <td>Regina Murphy</td>\n",
       "      <td>Sales Representative</td>\n",
       "      <td>707 Oxford Rd.</td>\n",
       "      <td>Ann Arbor</td>\n",
       "      <td>North America</td>\n",
       "      <td>48104</td>\n",
       "      <td>USA</td>\n",
       "      <td>(313) 555-5735</td>\n",
       "      <td>(313) 555-3349</td>\n",
       "      <td>None</td>\n",
       "    </tr>\n",
       "    <tr>\n",
       "      <th>3</th>\n",
       "      <td>4</td>\n",
       "      <td>Tokyo Traders</td>\n",
       "      <td>Yoshi Nagase</td>\n",
       "      <td>Marketing Manager</td>\n",
       "      <td>9-8 Sekimai Musashino-shi</td>\n",
       "      <td>Tokyo</td>\n",
       "      <td>Eastern Asia</td>\n",
       "      <td>100</td>\n",
       "      <td>Japan</td>\n",
       "      <td>(03) 3555-5011</td>\n",
       "      <td>None</td>\n",
       "      <td>None</td>\n",
       "    </tr>\n",
       "    <tr>\n",
       "      <th>4</th>\n",
       "      <td>5</td>\n",
       "      <td>Cooperativa de Quesos 'Las Cabras'</td>\n",
       "      <td>Antonio del Valle Saavedra</td>\n",
       "      <td>Export Administrator</td>\n",
       "      <td>Calle del Rosal 4</td>\n",
       "      <td>Oviedo</td>\n",
       "      <td>Southern Europe</td>\n",
       "      <td>33007</td>\n",
       "      <td>Spain</td>\n",
       "      <td>(98) 598 76 54</td>\n",
       "      <td>None</td>\n",
       "      <td>None</td>\n",
       "    </tr>\n",
       "  </tbody>\n",
       "</table>\n",
       "</div>"
      ],
      "text/plain": [
       "   Id                         CompanyName                 ContactName  \\\n",
       "0   1                      Exotic Liquids            Charlotte Cooper   \n",
       "1   2          New Orleans Cajun Delights               Shelley Burke   \n",
       "2   3           Grandma Kelly's Homestead               Regina Murphy   \n",
       "3   4                       Tokyo Traders                Yoshi Nagase   \n",
       "4   5  Cooperativa de Quesos 'Las Cabras'  Antonio del Valle Saavedra   \n",
       "\n",
       "           ContactTitle                    Address         City  \\\n",
       "0    Purchasing Manager             49 Gilbert St.       London   \n",
       "1   Order Administrator             P.O. Box 78934  New Orleans   \n",
       "2  Sales Representative             707 Oxford Rd.    Ann Arbor   \n",
       "3     Marketing Manager  9-8 Sekimai Musashino-shi        Tokyo   \n",
       "4  Export Administrator          Calle del Rosal 4       Oviedo   \n",
       "\n",
       "            Region PostalCode Country           Phone             Fax  \\\n",
       "0    British Isles    EC1 4SD      UK  (171) 555-2222            None   \n",
       "1    North America      70117     USA  (100) 555-4822            None   \n",
       "2    North America      48104     USA  (313) 555-5735  (313) 555-3349   \n",
       "3     Eastern Asia        100   Japan  (03) 3555-5011            None   \n",
       "4  Southern Europe      33007   Spain  (98) 598 76 54            None   \n",
       "\n",
       "      HomePage  \n",
       "0         None  \n",
       "1  #CAJUN.HTM#  \n",
       "2         None  \n",
       "3         None  \n",
       "4         None  "
      ]
     },
     "execution_count": 29,
     "metadata": {},
     "output_type": "execute_result"
    }
   ],
   "source": [
    "df['Supplier'][:5]"
   ]
  },
  {
   "cell_type": "code",
   "execution_count": 31,
   "metadata": {},
   "outputs": [
    {
     "name": "stdout",
     "output_type": "stream",
     "text": [
      "2019-01-31 22:21:31,811 INFO sqlalchemy.engine.base.Engine SELECT p.id as product, od.quantity quantity, od.unitprice unit_price, \n",
      "                            od.discount discount, s.id supplier, s.region supp_region, \n",
      "                            c.id customer, c.region cust_region\n",
      "                            FROM supplier s\n",
      "                            JOIN product p  ON s.id = p.supplierid \n",
      "                            JOIN orderdetail od ON p.Id = od.productId\n",
      "                            JOIN [order] o ON od.OrderId = o.Id\n",
      "                            JOIN customer c ON o.customerid = c.id\n",
      "                            ;\n",
      "2019-01-31 22:21:31,813 INFO sqlalchemy.engine.base.Engine ()\n"
     ]
    },
    {
     "data": {
      "text/html": [
       "<div>\n",
       "<style scoped>\n",
       "    .dataframe tbody tr th:only-of-type {\n",
       "        vertical-align: middle;\n",
       "    }\n",
       "\n",
       "    .dataframe tbody tr th {\n",
       "        vertical-align: top;\n",
       "    }\n",
       "\n",
       "    .dataframe thead th {\n",
       "        text-align: right;\n",
       "    }\n",
       "</style>\n",
       "<table border=\"1\" class=\"dataframe\">\n",
       "  <thead>\n",
       "    <tr style=\"text-align: right;\">\n",
       "      <th></th>\n",
       "      <th>product</th>\n",
       "      <th>quantity</th>\n",
       "      <th>unit_price</th>\n",
       "      <th>discount</th>\n",
       "      <th>supplier</th>\n",
       "      <th>supp_region</th>\n",
       "      <th>customer</th>\n",
       "      <th>cust_region</th>\n",
       "    </tr>\n",
       "  </thead>\n",
       "  <tbody>\n",
       "    <tr>\n",
       "      <th>0</th>\n",
       "      <td>11</td>\n",
       "      <td>12</td>\n",
       "      <td>14.0</td>\n",
       "      <td>0.0</td>\n",
       "      <td>5</td>\n",
       "      <td>Southern Europe</td>\n",
       "      <td>VINET</td>\n",
       "      <td>Western Europe</td>\n",
       "    </tr>\n",
       "    <tr>\n",
       "      <th>1</th>\n",
       "      <td>42</td>\n",
       "      <td>10</td>\n",
       "      <td>9.8</td>\n",
       "      <td>0.0</td>\n",
       "      <td>20</td>\n",
       "      <td>South-East Asia</td>\n",
       "      <td>VINET</td>\n",
       "      <td>Western Europe</td>\n",
       "    </tr>\n",
       "    <tr>\n",
       "      <th>2</th>\n",
       "      <td>72</td>\n",
       "      <td>5</td>\n",
       "      <td>34.8</td>\n",
       "      <td>0.0</td>\n",
       "      <td>14</td>\n",
       "      <td>Southern Europe</td>\n",
       "      <td>VINET</td>\n",
       "      <td>Western Europe</td>\n",
       "    </tr>\n",
       "    <tr>\n",
       "      <th>3</th>\n",
       "      <td>14</td>\n",
       "      <td>9</td>\n",
       "      <td>18.6</td>\n",
       "      <td>0.0</td>\n",
       "      <td>6</td>\n",
       "      <td>Eastern Asia</td>\n",
       "      <td>TOMSP</td>\n",
       "      <td>Western Europe</td>\n",
       "    </tr>\n",
       "    <tr>\n",
       "      <th>4</th>\n",
       "      <td>51</td>\n",
       "      <td>40</td>\n",
       "      <td>42.4</td>\n",
       "      <td>0.0</td>\n",
       "      <td>24</td>\n",
       "      <td>NSW</td>\n",
       "      <td>TOMSP</td>\n",
       "      <td>Western Europe</td>\n",
       "    </tr>\n",
       "  </tbody>\n",
       "</table>\n",
       "</div>"
      ],
      "text/plain": [
       "   product  quantity  unit_price  discount  supplier      supp_region  \\\n",
       "0       11        12        14.0       0.0         5  Southern Europe   \n",
       "1       42        10         9.8       0.0        20  South-East Asia   \n",
       "2       72         5        34.8       0.0        14  Southern Europe   \n",
       "3       14         9        18.6       0.0         6     Eastern Asia   \n",
       "4       51        40        42.4       0.0        24              NSW   \n",
       "\n",
       "  customer     cust_region  \n",
       "0    VINET  Western Europe  \n",
       "1    VINET  Western Europe  \n",
       "2    VINET  Western Europe  \n",
       "3    TOMSP  Western Europe  \n",
       "4    TOMSP  Western Europe  "
      ]
     },
     "execution_count": 31,
     "metadata": {},
     "output_type": "execute_result"
    }
   ],
   "source": [
    "h4 = pd.read_sql_query('''SELECT p.id as product, od.quantity quantity, od.unitprice unit_price, \n",
    "                            od.discount discount, s.id supplier, s.region supp_region, \n",
    "                            c.id customer, c.region cust_region\n",
    "                            FROM supplier s\n",
    "                            JOIN product p  ON s.id = p.supplierid \n",
    "                            JOIN orderdetail od ON p.Id = od.productId\n",
    "                            JOIN [order] o ON od.OrderId = o.Id\n",
    "                            JOIN customer c ON o.customerid = c.id\n",
    "                            ;''', con)\n",
    "h4.head(5)"
   ]
  },
  {
   "cell_type": "code",
   "execution_count": 32,
   "metadata": {},
   "outputs": [
    {
     "name": "stderr",
     "output_type": "stream",
     "text": [
      "/anaconda3/lib/python3.7/site-packages/ipykernel_launcher.py:6: SettingWithCopyWarning: \n",
      "A value is trying to be set on a copy of a slice from a DataFrame.\n",
      "Try using .loc[row_indexer,col_indexer] = value instead\n",
      "\n",
      "See the caveats in the documentation: http://pandas.pydata.org/pandas-docs/stable/indexing.html#indexing-view-versus-copy\n",
      "  \n",
      "/anaconda3/lib/python3.7/site-packages/ipykernel_launcher.py:7: SettingWithCopyWarning: \n",
      "A value is trying to be set on a copy of a slice from a DataFrame.\n",
      "Try using .loc[row_indexer,col_indexer] = value instead\n",
      "\n",
      "See the caveats in the documentation: http://pandas.pydata.org/pandas-docs/stable/indexing.html#indexing-view-versus-copy\n",
      "  import sys\n"
     ]
    },
    {
     "data": {
      "text/html": [
       "<div>\n",
       "<style scoped>\n",
       "    .dataframe tbody tr th:only-of-type {\n",
       "        vertical-align: middle;\n",
       "    }\n",
       "\n",
       "    .dataframe tbody tr th {\n",
       "        vertical-align: top;\n",
       "    }\n",
       "\n",
       "    .dataframe thead th {\n",
       "        text-align: right;\n",
       "    }\n",
       "</style>\n",
       "<table border=\"1\" class=\"dataframe\">\n",
       "  <thead>\n",
       "    <tr style=\"text-align: right;\">\n",
       "      <th></th>\n",
       "      <th>product</th>\n",
       "      <th>quantity</th>\n",
       "      <th>unit_price</th>\n",
       "      <th>discount</th>\n",
       "      <th>supplier</th>\n",
       "      <th>supp_region</th>\n",
       "      <th>customer</th>\n",
       "      <th>cust_region</th>\n",
       "      <th>total</th>\n",
       "      <th>imp_dom</th>\n",
       "    </tr>\n",
       "  </thead>\n",
       "  <tbody>\n",
       "    <tr>\n",
       "      <th>0</th>\n",
       "      <td>11</td>\n",
       "      <td>12</td>\n",
       "      <td>14.0</td>\n",
       "      <td>0.00</td>\n",
       "      <td>5</td>\n",
       "      <td>Southern Europe</td>\n",
       "      <td>VINET</td>\n",
       "      <td>Western Europe</td>\n",
       "      <td>168.00</td>\n",
       "      <td>imported</td>\n",
       "    </tr>\n",
       "    <tr>\n",
       "      <th>1</th>\n",
       "      <td>42</td>\n",
       "      <td>10</td>\n",
       "      <td>9.8</td>\n",
       "      <td>0.00</td>\n",
       "      <td>20</td>\n",
       "      <td>South-East Asia</td>\n",
       "      <td>VINET</td>\n",
       "      <td>Western Europe</td>\n",
       "      <td>98.00</td>\n",
       "      <td>imported</td>\n",
       "    </tr>\n",
       "    <tr>\n",
       "      <th>2</th>\n",
       "      <td>72</td>\n",
       "      <td>5</td>\n",
       "      <td>34.8</td>\n",
       "      <td>0.00</td>\n",
       "      <td>14</td>\n",
       "      <td>Southern Europe</td>\n",
       "      <td>VINET</td>\n",
       "      <td>Western Europe</td>\n",
       "      <td>174.00</td>\n",
       "      <td>imported</td>\n",
       "    </tr>\n",
       "    <tr>\n",
       "      <th>3</th>\n",
       "      <td>14</td>\n",
       "      <td>9</td>\n",
       "      <td>18.6</td>\n",
       "      <td>0.00</td>\n",
       "      <td>6</td>\n",
       "      <td>Eastern Asia</td>\n",
       "      <td>TOMSP</td>\n",
       "      <td>Western Europe</td>\n",
       "      <td>167.40</td>\n",
       "      <td>imported</td>\n",
       "    </tr>\n",
       "    <tr>\n",
       "      <th>4</th>\n",
       "      <td>51</td>\n",
       "      <td>40</td>\n",
       "      <td>42.4</td>\n",
       "      <td>0.00</td>\n",
       "      <td>24</td>\n",
       "      <td>NSW</td>\n",
       "      <td>TOMSP</td>\n",
       "      <td>Western Europe</td>\n",
       "      <td>1696.00</td>\n",
       "      <td>imported</td>\n",
       "    </tr>\n",
       "    <tr>\n",
       "      <th>5</th>\n",
       "      <td>41</td>\n",
       "      <td>10</td>\n",
       "      <td>7.7</td>\n",
       "      <td>0.00</td>\n",
       "      <td>19</td>\n",
       "      <td>North America</td>\n",
       "      <td>HANAR</td>\n",
       "      <td>South America</td>\n",
       "      <td>77.00</td>\n",
       "      <td>imported</td>\n",
       "    </tr>\n",
       "    <tr>\n",
       "      <th>6</th>\n",
       "      <td>51</td>\n",
       "      <td>35</td>\n",
       "      <td>42.4</td>\n",
       "      <td>0.15</td>\n",
       "      <td>24</td>\n",
       "      <td>NSW</td>\n",
       "      <td>HANAR</td>\n",
       "      <td>South America</td>\n",
       "      <td>1261.40</td>\n",
       "      <td>imported</td>\n",
       "    </tr>\n",
       "    <tr>\n",
       "      <th>7</th>\n",
       "      <td>65</td>\n",
       "      <td>15</td>\n",
       "      <td>16.8</td>\n",
       "      <td>0.15</td>\n",
       "      <td>2</td>\n",
       "      <td>North America</td>\n",
       "      <td>HANAR</td>\n",
       "      <td>South America</td>\n",
       "      <td>214.20</td>\n",
       "      <td>imported</td>\n",
       "    </tr>\n",
       "    <tr>\n",
       "      <th>8</th>\n",
       "      <td>22</td>\n",
       "      <td>6</td>\n",
       "      <td>16.8</td>\n",
       "      <td>0.05</td>\n",
       "      <td>9</td>\n",
       "      <td>Northern Europe</td>\n",
       "      <td>VICTE</td>\n",
       "      <td>Western Europe</td>\n",
       "      <td>95.76</td>\n",
       "      <td>imported</td>\n",
       "    </tr>\n",
       "    <tr>\n",
       "      <th>9</th>\n",
       "      <td>57</td>\n",
       "      <td>15</td>\n",
       "      <td>15.6</td>\n",
       "      <td>0.05</td>\n",
       "      <td>26</td>\n",
       "      <td>Southern Europe</td>\n",
       "      <td>VICTE</td>\n",
       "      <td>Western Europe</td>\n",
       "      <td>222.30</td>\n",
       "      <td>imported</td>\n",
       "    </tr>\n",
       "  </tbody>\n",
       "</table>\n",
       "</div>"
      ],
      "text/plain": [
       "   product  quantity  unit_price  discount  supplier      supp_region  \\\n",
       "0       11        12        14.0      0.00         5  Southern Europe   \n",
       "1       42        10         9.8      0.00        20  South-East Asia   \n",
       "2       72         5        34.8      0.00        14  Southern Europe   \n",
       "3       14         9        18.6      0.00         6     Eastern Asia   \n",
       "4       51        40        42.4      0.00        24              NSW   \n",
       "5       41        10         7.7      0.00        19    North America   \n",
       "6       51        35        42.4      0.15        24              NSW   \n",
       "7       65        15        16.8      0.15         2    North America   \n",
       "8       22         6        16.8      0.05         9  Northern Europe   \n",
       "9       57        15        15.6      0.05        26  Southern Europe   \n",
       "\n",
       "  customer     cust_region    total   imp_dom  \n",
       "0    VINET  Western Europe   168.00  imported  \n",
       "1    VINET  Western Europe    98.00  imported  \n",
       "2    VINET  Western Europe   174.00  imported  \n",
       "3    TOMSP  Western Europe   167.40  imported  \n",
       "4    TOMSP  Western Europe  1696.00  imported  \n",
       "5    HANAR   South America    77.00  imported  \n",
       "6    HANAR   South America  1261.40  imported  \n",
       "7    HANAR   South America   214.20  imported  \n",
       "8    VICTE  Western Europe    95.76  imported  \n",
       "9    VICTE  Western Europe   222.30  imported  "
      ]
     },
     "execution_count": 32,
     "metadata": {},
     "output_type": "execute_result"
    }
   ],
   "source": [
    "h4['total'] = h4['quantity'] * (h4['unit_price']-(h4['unit_price']*h4['discount']))\n",
    "\n",
    "domestic =  h4.loc[h4['supp_region'] == h4['cust_region']]\n",
    "imports =  h4.loc[h4['supp_region'] != h4['cust_region']]\n",
    "\n",
    "domestic['imp_dom'] = 'domestic'\n",
    "imports['imp_dom'] = 'imported'\n",
    "\n",
    "h4_imp_dom = pd.concat([imports,domestic])\n",
    "h4_imp_dom.head(10)"
   ]
  },
  {
   "cell_type": "code",
   "execution_count": 111,
   "metadata": {},
   "outputs": [
    {
     "name": "stderr",
     "output_type": "stream",
     "text": [
      "/anaconda3/lib/python3.7/site-packages/scipy/stats/stats.py:1713: FutureWarning: Using a non-tuple sequence for multidimensional indexing is deprecated; use `arr[tuple(seq)]` instead of `arr[seq]`. In the future this will be interpreted as an array index, `arr[np.array(seq)]`, which will result either in an error or a different result.\n",
      "  return np.add.reduce(sorted[indexer] * weights, axis=axis) / sumval\n"
     ]
    },
    {
     "data": {
      "text/plain": [
       "<matplotlib.legend.Legend at 0x1a290fcc50>"
      ]
     },
     "execution_count": 111,
     "metadata": {},
     "output_type": "execute_result"
    },
    {
     "data": {
      "image/png": "[encoded data removed]",
      "text/plain": [
       "<Figure size 1440x720 with 1 Axes>"
      ]
     },
     "metadata": {},
     "output_type": "display_data"
    }
   ],
   "source": [
    "sns.set(style=\"whitegrid\", palette=\"pastel\", color_codes=True)\n",
    "\n",
    "f, ax = plt.subplots(figsize=(20, 10))\n",
    "\n",
    "# Draw a nested violinplot and split the violins for easier comparison\n",
    "sns.violinplot(x=\"supp_region\", y=\"quantity\", hue='imp_dom', split=True, data=h4_imp_dom, linewidth=2.5)\n",
    "sns.despine(left=True)\n",
    "\n",
    "f.suptitle('Sales by Category and Region', fontsize=18, fontweight='bold')\n",
    "ax.set_xlabel(\"Region\",size = 16,alpha=0.7)\n",
    "ax.set_ylabel(\"Number of Products Sold\",size = 16,alpha=0.7)\n",
    "plt.legend(loc='upper right')"
   ]
  },
  {
   "cell_type": "code",
   "execution_count": 94,
   "metadata": {},
   "outputs": [
    {
     "name": "stdout",
     "output_type": "stream",
     "text": [
      "Statistics for Imports:\n",
      "Sample Size:  1780\n",
      "Mean:  540.5980019662924\n",
      "Variance:  749084.9844669156\n",
      "\n",
      "\n",
      "Statistics for Domestic:\n",
      "Sample Size:  298\n",
      "Mean:  891.6477214765101\n",
      "Variance:  2051137.4728267768\n"
     ]
    },
    {
     "data": {
      "text/plain": [
       "LeveneResult(statistic=30.061705929610266, pvalue=4.694649311730662e-08)"
      ]
     },
     "execution_count": 94,
     "metadata": {},
     "output_type": "execute_result"
    }
   ],
   "source": [
    "print('Statistics for Imports:')\n",
    "print('Sample Size: ',len(imports['total']))\n",
    "print('Mean: ',np.mean(imports['total']))\n",
    "print('Variance: ',np.var(imports['total']))\n",
    "print('\\n')\n",
    "print('Statistics for Domestic:')\n",
    "print('Sample Size: ',len(domestic['total']))\n",
    "print('Mean: ',np.mean(domestic['total']))\n",
    "print('Variance: ',np.var(domestic['total']))\n",
    "\n",
    "\n",
    "# Levene Test for testing homogeneity of variances\n",
    "from scipy import stats\n",
    "stats.levene(imports['total'],domestic['total'])"
   ]
  },
  {
   "cell_type": "code",
   "execution_count": 33,
   "metadata": {},
   "outputs": [
    {
     "name": "stdout",
     "output_type": "stream",
     "text": [
      "Statistics for Imports:\n",
      "Sample Size:  1780\n",
      "Mean:  40.32865168539326\n",
      "Variance:  495.5577184067679\n",
      "\n",
      "\n",
      "Statistics for Domestic:\n",
      "Sample Size:  298\n",
      "Mean:  44.33892617449664\n",
      "Variance:  446.86835052475124\n",
      "\n"
     ]
    },
    {
     "data": {
      "text/plain": [
       "LeveneResult(statistic=0.9818929198646213, pvalue=0.32184739873191415)"
      ]
     },
     "execution_count": 33,
     "metadata": {},
     "output_type": "execute_result"
    }
   ],
   "source": [
    "print('Statistics for Imports:')\n",
    "print('Sample Size: ',len(imports['product']))\n",
    "print('Mean: ',np.mean(imports['product']))\n",
    "print('Variance: ',np.var(imports['product']))\n",
    "print('\\n')\n",
    "print('Statistics for Domestic:')\n",
    "print('Sample Size: ',len(domestic['product']))\n",
    "print('Mean: ',np.mean(domestic['product']))\n",
    "print('Variance: ',np.var(domestic['product']))\n",
    "\n",
    "print()\n",
    "\n",
    "# Levene Test for testing homogeneity of variances\n",
    "from scipy import stats\n",
    "stats.levene(imports['product'],domestic['product'])"
   ]
  },
  {
   "cell_type": "markdown",
   "metadata": {},
   "source": [
    "## 3. Test with an Experiment\n",
    "\n",
    "There are a few assumption we need to make in order to be able to compare the means:\n",
    "\n",
    "1. **Data is independent**\n",
    "\n",
    "We can assume the data is independant because we are working with individual products and discounts. \n",
    "\n",
    "2. **Data is collected randomly**\n",
    "\n",
    "We can assume random data.\n",
    "\n",
    "3. **The data is approximately normally distributed**\n",
    "\n",
    "Base on the violin graph about the data seems to be approximately normally distributed. \n",
    "\n",
    "4. **Data sample size and variance are similar**\n",
    "\n",
    "Based on the levene test above we can assume homogeneity of variance for our numbe of product data but cannot assume homogeneity of variance for our total sales data."
   ]
  },
  {
   "cell_type": "markdown",
   "metadata": {},
   "source": [
    "### Test 1"
   ]
  },
  {
   "cell_type": "code",
   "execution_count": 60,
   "metadata": {},
   "outputs": [
    {
     "name": "stdout",
     "output_type": "stream",
     "text": [
      "Ttest_indResult(statistic=-2.897307583826179, pvalue=0.0038032368139547285)\n",
      "Cohen's d:  -0.181345374098745\n"
     ]
    }
   ],
   "source": [
    "print(stats.ttest_ind(imports['product'], domestic['product']))\n",
    "\n",
    "print(\"Cohen's d: \",Cohen_d(imports['product'], domestic['product']))"
   ]
  },
  {
   "cell_type": "markdown",
   "metadata": {},
   "source": [
    "### Test 2"
   ]
  },
  {
   "cell_type": "code",
   "execution_count": 61,
   "metadata": {},
   "outputs": [
    {
     "name": "stdout",
     "output_type": "stream",
     "text": [
      "Ttest_indResult(statistic=-4.101076782997389, pvalue=5.169912347687213e-05)\n",
      "Cohen's d:  -0.3626284182039817\n"
     ]
    }
   ],
   "source": [
    "print(stats.ttest_ind(imports['total'], domestic['total'],equal_var=False))\n",
    "print(\"Cohen's d: \",Cohen_d(imports['total'], domestic['total']))"
   ]
  },
  {
   "cell_type": "markdown",
   "metadata": {},
   "source": [
    "## 4. Analize Data and Draw conclusions"
   ]
  },
  {
   "cell_type": "markdown",
   "metadata": {},
   "source": [
    "**Develop relationships with more domestic partners and push domestic suppliers**\n",
    "\n",
    "- The t-test comparing the mean number of imports sold (40.32) vs. domestic products (44.33) was significant. $t=-2.897,p=0.0038$\n",
    "\n",
    "- The t-test comparing the mean sales of imports (540.59) vs. domestic products (891.64) was significant. $t=-4.101,p=5.1699e-05$\n",
    "\n",
    "Based on this analysis I would encourage Northwind trading co. to invest in domestic suppliers. While most of the business is done with imports 84%, when customers buy domestically, they purchace more products on average and spend more money. \n",
    "\n"
   ]
  }
 ],
 "metadata": {
  "kernelspec": {
   "display_name": "Python 3",
   "language": "python",
   "name": "python3"
  },
  "language_info": {
   "codemirror_mode": {
    "name": "ipython",
    "version": 3
   },
   "file_extension": ".py",
   "mimetype": "text/x-python",
   "name": "python",
   "nbconvert_exporter": "python",
   "pygments_lexer": "ipython3",
   "version": "3.7.0"
  }
 },
 "nbformat": 4,
 "nbformat_minor": 2
}
